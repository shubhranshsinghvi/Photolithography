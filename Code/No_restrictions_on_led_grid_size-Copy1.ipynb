{
 "cells": [
  {
   "cell_type": "markdown",
   "metadata": {},
   "source": [
    "## Import libraries "
   ]
  },
  {
   "cell_type": "code",
   "execution_count": 9,
   "metadata": {},
   "outputs": [],
   "source": [
    "from multiprocessing import Pool\n",
    "import math\n",
    "import numpy as np\n",
    "import pandas as pd\n",
    "import matplotlib.pyplot as plt\n",
    "from tqdm import tqdm"
   ]
  },
  {
   "cell_type": "markdown",
   "metadata": {},
   "source": [
    "## Define functions "
   ]
  },
  {
   "cell_type": "code",
   "execution_count": 10,
   "metadata": {},
   "outputs": [],
   "source": [
    "def arrangement_1(nleds,d):\n",
    "    l=math.sqrt(nleds);\n",
    "    ledcord=np.zeros((2,nleds));\n",
    "    temp=0;\n",
    "    for k in range(nleds):\n",
    "        ledcord[0,k]=-(l-1)*d/2 +((k)%l)*d;\n",
    "        if (k)%l ==0 and k != 0:\n",
    "            temp=temp+1;\n",
    "        ledcord[1,k]=-(l-1)*d/2 + temp*d;\n",
    "    return ledcord\n",
    "\n",
    "def arrangement_2(nleds,d):\n",
    "    l=math.sqrt(nleds);\n",
    "    ledcord=np.zeros((2,nleds));\n",
    "    temp=0;\n",
    "    for k in range(nleds):\n",
    "        if (k)%2 ==0:\n",
    "            ledcord[0,k]=-(l-1)*d/2 +((k)%l)*d;\n",
    "        elif (k)%2 ==1:\n",
    "            ledcord[0,k]=-(l-2)*d/2 +((k)%l)*d;\n",
    "        \n",
    "        if (k)%l ==0 and k != 0:\n",
    "            temp=temp+1;\n",
    "        \n",
    "        ledcord[1,k]=-(l-1)*d/2 + temp*d;\n",
    "    return ledcord\n",
    "\n",
    "def E_r(ledcord,nleds,Ir_0,z,d,r):    \n",
    "    x=r;\n",
    "    y=0;\n",
    "    E=0;\n",
    "    for i in range(nleds):\n",
    "        den=np.square(np.square(x-ledcord[0,i]) +np.square(y-ledcord[1,i]) +z**2);\n",
    "        E= E + (z**2 * Ir_0)*(np.reciprocal(den))\n",
    "    return E\n",
    "  "
   ]
  },
  {
   "cell_type": "markdown",
   "metadata": {},
   "source": [
    "# Arrangement 1 "
   ]
  },
  {
   "cell_type": "markdown",
   "metadata": {},
   "source": [
    "## Percent_Uniformity vs d and z "
   ]
  },
  {
   "cell_type": "code",
   "execution_count": 11,
   "metadata": {},
   "outputs": [
    {
     "name": "stderr",
     "output_type": "stream",
     "text": [
      "100%|██████████| 191/191 [45:43<00:00, 14.36s/it] \n"
     ]
    }
   ],
   "source": [
    "Ir_0 = 0.1\n",
    "final_list = []\n",
    "\n",
    "def ratio(d):\n",
    "    final_list = []\n",
    "    Ir_0=0.1\n",
    "    for nleds in [9,25,49,81,121]:\n",
    "        lled=np.sqrt(nleds)   \n",
    "        ledcord = arrangement_1(nleds,d)\n",
    "        nz = round((0.5 - d)/0.001) + 1\n",
    "        for z in np.linspace(d,0.5,nz):\n",
    "            min_E=1000000;\n",
    "            max_E=0;\n",
    "            ni = round((0.04)/0.001) + 1\n",
    "            for i in np.linspace(0,0.04,ni):\n",
    "                E_i = E_r(ledcord,nleds,Ir_0,z,d,i)\n",
    "                min_E = min(min_E,E_i)\n",
    "                max_E = max(max_E,E_i)\n",
    "            percent_uniformity=(min_E/max_E)*100\n",
    "\n",
    "            t = 4000/(max_E + min_E)\n",
    "            energy_max = max_E * t\n",
    "            energy_min = min_E * t\n",
    "\n",
    "            final_list.append([nleds,d,z,min_E,max_E,t,energy_min/10,energy_max/10,percent_uniformity])\n",
    "    return final_list\n",
    "\n",
    "with Pool(7) as p:\n",
    "    l = list(tqdm(p.imap(ratio,np.linspace(0.01,0.2,191)), total=191))"
   ]
  },
  {
   "cell_type": "code",
   "execution_count": 12,
   "metadata": {},
   "outputs": [],
   "source": [
    "t=[]\n",
    "for i in l:\n",
    "    t.extend(i)\n",
    "#     print(len(i))\n",
    "final_list=t"
   ]
  },
  {
   "cell_type": "code",
   "execution_count": 13,
   "metadata": {},
   "outputs": [],
   "source": [
    "df_1 = pd.DataFrame(final_list,columns=[\"nleds\",\"d(m)\",\"z(m)\",\"min_E(W/m^2)\",\"max_E(W/m^2)\",\"exposure_time(s)\",\"energy_min(mJ/cm^2)\",\"energy_max(mJ^cm^2)\",\"percent_uniformity\"])\n",
    "#pd.set_option(\"display.max_rows\", None, \"display.max_columns\", None)\n",
    "#df.pivot_table(index = ['d(m)','nleds'], aggfunc ='size') "
   ]
  },
  {
   "cell_type": "markdown",
   "metadata": {},
   "source": [
    "## Maximum_percent_uniformity "
   ]
  },
  {
   "cell_type": "code",
   "execution_count": 14,
   "metadata": {},
   "outputs": [
    {
     "data": {
      "text/html": [
       "<div>\n",
       "<style scoped>\n",
       "    .dataframe tbody tr th:only-of-type {\n",
       "        vertical-align: middle;\n",
       "    }\n",
       "\n",
       "    .dataframe tbody tr th {\n",
       "        vertical-align: top;\n",
       "    }\n",
       "\n",
       "    .dataframe thead th {\n",
       "        text-align: right;\n",
       "    }\n",
       "</style>\n",
       "<table border=\"1\" class=\"dataframe\">\n",
       "  <thead>\n",
       "    <tr style=\"text-align: right;\">\n",
       "      <th></th>\n",
       "      <th>nleds</th>\n",
       "      <th>d(m)</th>\n",
       "      <th>z(m)</th>\n",
       "      <th>min_E(W/m^2)</th>\n",
       "      <th>max_E(W/m^2)</th>\n",
       "      <th>exposure_time(s)</th>\n",
       "      <th>energy_min(mJ/cm^2)</th>\n",
       "      <th>energy_max(mJ^cm^2)</th>\n",
       "      <th>percent_uniformity</th>\n",
       "    </tr>\n",
       "  </thead>\n",
       "  <tbody>\n",
       "    <tr>\n",
       "      <th>376975</th>\n",
       "      <td>9</td>\n",
       "      <td>0.2</td>\n",
       "      <td>0.500</td>\n",
       "      <td>2.492124</td>\n",
       "      <td>2.507334</td>\n",
       "      <td>800.086610</td>\n",
       "      <td>199.391541</td>\n",
       "      <td>200.608459</td>\n",
       "      <td>99.393387</td>\n",
       "    </tr>\n",
       "    <tr>\n",
       "      <th>377116</th>\n",
       "      <td>25</td>\n",
       "      <td>0.2</td>\n",
       "      <td>0.340</td>\n",
       "      <td>5.751994</td>\n",
       "      <td>5.764446</td>\n",
       "      <td>347.329552</td>\n",
       "      <td>199.783750</td>\n",
       "      <td>200.216250</td>\n",
       "      <td>99.783984</td>\n",
       "    </tr>\n",
       "    <tr>\n",
       "      <th>377437</th>\n",
       "      <td>49</td>\n",
       "      <td>0.2</td>\n",
       "      <td>0.360</td>\n",
       "      <td>6.480728</td>\n",
       "      <td>6.486233</td>\n",
       "      <td>308.476272</td>\n",
       "      <td>199.915095</td>\n",
       "      <td>200.084905</td>\n",
       "      <td>99.915131</td>\n",
       "    </tr>\n",
       "    <tr>\n",
       "      <th>377758</th>\n",
       "      <td>81</td>\n",
       "      <td>0.2</td>\n",
       "      <td>0.380</td>\n",
       "      <td>6.866439</td>\n",
       "      <td>6.869194</td>\n",
       "      <td>291.213385</td>\n",
       "      <td>199.959881</td>\n",
       "      <td>200.040119</td>\n",
       "      <td>99.959889</td>\n",
       "    </tr>\n",
       "    <tr>\n",
       "      <th>378078</th>\n",
       "      <td>121</td>\n",
       "      <td>0.2</td>\n",
       "      <td>0.399</td>\n",
       "      <td>7.097583</td>\n",
       "      <td>7.099109</td>\n",
       "      <td>281.755781</td>\n",
       "      <td>199.978503</td>\n",
       "      <td>200.021497</td>\n",
       "      <td>99.978505</td>\n",
       "    </tr>\n",
       "  </tbody>\n",
       "</table>\n",
       "</div>"
      ],
      "text/plain": [
       "        nleds  d(m)   z(m)  min_E(W/m^2)  max_E(W/m^2)  exposure_time(s)  \\\n",
       "376975      9   0.2  0.500      2.492124      2.507334        800.086610   \n",
       "377116     25   0.2  0.340      5.751994      5.764446        347.329552   \n",
       "377437     49   0.2  0.360      6.480728      6.486233        308.476272   \n",
       "377758     81   0.2  0.380      6.866439      6.869194        291.213385   \n",
       "378078    121   0.2  0.399      7.097583      7.099109        281.755781   \n",
       "\n",
       "        energy_min(mJ/cm^2)  energy_max(mJ^cm^2)  percent_uniformity  \n",
       "376975           199.391541           200.608459           99.393387  \n",
       "377116           199.783750           200.216250           99.783984  \n",
       "377437           199.915095           200.084905           99.915131  \n",
       "377758           199.959881           200.040119           99.959889  \n",
       "378078           199.978503           200.021497           99.978505  "
      ]
     },
     "execution_count": 14,
     "metadata": {},
     "output_type": "execute_result"
    }
   ],
   "source": [
    "idx = df_1.groupby(['nleds'])['percent_uniformity'].transform(max) == df_1['percent_uniformity']\n",
    "df_1[idx].sort_values(\"nleds\")"
   ]
  },
  {
   "cell_type": "markdown",
   "metadata": {},
   "source": [
    "## Minimum_exposure_time"
   ]
  },
  {
   "cell_type": "code",
   "execution_count": 17,
   "metadata": {},
   "outputs": [
    {
     "data": {
      "text/html": [
       "<div>\n",
       "<style scoped>\n",
       "    .dataframe tbody tr th:only-of-type {\n",
       "        vertical-align: middle;\n",
       "    }\n",
       "\n",
       "    .dataframe tbody tr th {\n",
       "        vertical-align: top;\n",
       "    }\n",
       "\n",
       "    .dataframe thead th {\n",
       "        text-align: right;\n",
       "    }\n",
       "</style>\n",
       "<table border=\"1\" class=\"dataframe\">\n",
       "  <thead>\n",
       "    <tr style=\"text-align: right;\">\n",
       "      <th></th>\n",
       "      <th>nleds</th>\n",
       "      <th>d(m)</th>\n",
       "      <th>z(m)</th>\n",
       "      <th>min_E(W/m^2)</th>\n",
       "      <th>max_E(W/m^2)</th>\n",
       "      <th>exposure_time(s)</th>\n",
       "      <th>energy_min(mJ/cm^2)</th>\n",
       "      <th>energy_max(mJ^cm^2)</th>\n",
       "      <th>percent_uniformity</th>\n",
       "    </tr>\n",
       "  </thead>\n",
       "  <tbody>\n",
       "    <tr>\n",
       "      <th>339128</th>\n",
       "      <td>9</td>\n",
       "      <td>0.176</td>\n",
       "      <td>0.249</td>\n",
       "      <td>6.034938</td>\n",
       "      <td>6.095878</td>\n",
       "      <td>329.738733</td>\n",
       "      <td>198.995277</td>\n",
       "      <td>201.004723</td>\n",
       "      <td>99.000299</td>\n",
       "    </tr>\n",
       "    <tr>\n",
       "      <th>185160</th>\n",
       "      <td>25</td>\n",
       "      <td>0.092</td>\n",
       "      <td>0.138</td>\n",
       "      <td>28.695536</td>\n",
       "      <td>28.985091</td>\n",
       "      <td>69.347373</td>\n",
       "      <td>198.996007</td>\n",
       "      <td>201.003993</td>\n",
       "      <td>99.001022</td>\n",
       "    </tr>\n",
       "    <tr>\n",
       "      <th>90694</th>\n",
       "      <td>49</td>\n",
       "      <td>0.048</td>\n",
       "      <td>0.061</td>\n",
       "      <td>122.840000</td>\n",
       "      <td>124.072012</td>\n",
       "      <td>16.200103</td>\n",
       "      <td>199.002065</td>\n",
       "      <td>200.997935</td>\n",
       "      <td>99.007019</td>\n",
       "    </tr>\n",
       "    <tr>\n",
       "      <th>56612</th>\n",
       "      <td>81</td>\n",
       "      <td>0.033</td>\n",
       "      <td>0.041</td>\n",
       "      <td>270.900817</td>\n",
       "      <td>273.583297</td>\n",
       "      <td>7.346404</td>\n",
       "      <td>199.014671</td>\n",
       "      <td>200.985329</td>\n",
       "      <td>99.019502</td>\n",
       "    </tr>\n",
       "    <tr>\n",
       "      <th>38214</th>\n",
       "      <td>121</td>\n",
       "      <td>0.025</td>\n",
       "      <td>0.035</td>\n",
       "      <td>474.073674</td>\n",
       "      <td>478.809737</td>\n",
       "      <td>4.197785</td>\n",
       "      <td>199.005951</td>\n",
       "      <td>200.994049</td>\n",
       "      <td>99.010867</td>\n",
       "    </tr>\n",
       "  </tbody>\n",
       "</table>\n",
       "</div>"
      ],
      "text/plain": [
       "        nleds   d(m)   z(m)  min_E(W/m^2)  max_E(W/m^2)  exposure_time(s)  \\\n",
       "339128      9  0.176  0.249      6.034938      6.095878        329.738733   \n",
       "185160     25  0.092  0.138     28.695536     28.985091         69.347373   \n",
       "90694      49  0.048  0.061    122.840000    124.072012         16.200103   \n",
       "56612      81  0.033  0.041    270.900817    273.583297          7.346404   \n",
       "38214     121  0.025  0.035    474.073674    478.809737          4.197785   \n",
       "\n",
       "        energy_min(mJ/cm^2)  energy_max(mJ^cm^2)  percent_uniformity  \n",
       "339128           198.995277           201.004723           99.000299  \n",
       "185160           198.996007           201.003993           99.001022  \n",
       "90694            199.002065           200.997935           99.007019  \n",
       "56612            199.014671           200.985329           99.019502  \n",
       "38214            199.005951           200.994049           99.010867  "
      ]
     },
     "execution_count": 17,
     "metadata": {},
     "output_type": "execute_result"
    }
   ],
   "source": [
    "ef_1=df_1[df_1['percent_uniformity']>99]\n",
    "idx = ef_1.groupby(['nleds'])['exposure_time(s)'].transform(min) == ef_1['exposure_time(s)']\n",
    "ef_1[idx].sort_values(\"nleds\")"
   ]
  },
  {
   "cell_type": "markdown",
   "metadata": {},
   "source": [
    "# Arrangement 2"
   ]
  },
  {
   "cell_type": "code",
   "execution_count": 18,
   "metadata": {},
   "outputs": [
    {
     "name": "stderr",
     "output_type": "stream",
     "text": [
      "100%|██████████| 191/191 [48:17<00:00, 15.17s/it] \n"
     ]
    }
   ],
   "source": [
    "Ir_0 = 0.1\n",
    "final_list = []\n",
    "\n",
    "def ratio(d):\n",
    "    final_list = []\n",
    "    Ir_0=0.1\n",
    "    for nleds in [9,25,49,81,121]:\n",
    "        lled=np.sqrt(nleds)   \n",
    "        ledcord = arrangement_2(nleds,d)\n",
    "        nz = round((0.5 - d)/0.001) + 1\n",
    "        for z in np.linspace(d,0.5,nz):\n",
    "            min_E=1000000;\n",
    "            max_E=0;\n",
    "            ni = round((0.04)/0.001) + 1\n",
    "            for i in np.linspace(0,0.04,ni):\n",
    "                E_i = E_r(ledcord,nleds,Ir_0,z,d,i)\n",
    "                min_E = min(min_E,E_i)\n",
    "                max_E = max(max_E,E_i)\n",
    "            percent_uniformity=(min_E/max_E)*100\n",
    "\n",
    "            t = 4000/(max_E + min_E)\n",
    "            energy_max = max_E * t\n",
    "            energy_min = min_E * t\n",
    "\n",
    "            final_list.append([nleds,d,z,min_E,max_E,t,energy_min/10,energy_max/10,percent_uniformity])\n",
    "    return final_list\n",
    "\n",
    "with Pool(7) as p:\n",
    "    l = list(tqdm(p.imap(ratio,np.linspace(0.01,0.2,191)), total=191))"
   ]
  },
  {
   "cell_type": "code",
   "execution_count": 19,
   "metadata": {},
   "outputs": [],
   "source": [
    "t=[]\n",
    "for i in l:\n",
    "    t.extend(i)\n",
    "#     print(len(i))\n",
    "final_list=t"
   ]
  },
  {
   "cell_type": "code",
   "execution_count": 20,
   "metadata": {},
   "outputs": [],
   "source": [
    "df_2 = pd.DataFrame(final_list,columns=[\"nleds\",\"d(m)\",\"z(m)\",\"min_E(W/m^2)\",\"max_E(W/m^2)\",\"exposure_time(s)\",\"energy_min(mJ/cm^2)\",\"energy_max(mJ^cm^2)\",\"percent_uniformity\"])\n",
    "#pd.set_option(\"display.max_rows\", None, \"display.max_columns\", None)\n",
    "#df.pivot_table(index = ['d(m)','nleds'], aggfunc ='size') "
   ]
  },
  {
   "cell_type": "markdown",
   "metadata": {},
   "source": [
    "## Maximum_percent_uniformity"
   ]
  },
  {
   "cell_type": "code",
   "execution_count": 22,
   "metadata": {},
   "outputs": [
    {
     "data": {
      "text/html": [
       "<div>\n",
       "<style scoped>\n",
       "    .dataframe tbody tr th:only-of-type {\n",
       "        vertical-align: middle;\n",
       "    }\n",
       "\n",
       "    .dataframe tbody tr th {\n",
       "        vertical-align: top;\n",
       "    }\n",
       "\n",
       "    .dataframe thead th {\n",
       "        text-align: right;\n",
       "    }\n",
       "</style>\n",
       "<table border=\"1\" class=\"dataframe\">\n",
       "  <thead>\n",
       "    <tr style=\"text-align: right;\">\n",
       "      <th></th>\n",
       "      <th>nleds</th>\n",
       "      <th>d(m)</th>\n",
       "      <th>z(m)</th>\n",
       "      <th>min_E(W/m^2)</th>\n",
       "      <th>max_E(W/m^2)</th>\n",
       "      <th>exposure_time(s)</th>\n",
       "      <th>energy_min(mJ/cm^2)</th>\n",
       "      <th>energy_max(mJ^cm^2)</th>\n",
       "      <th>percent_uniformity</th>\n",
       "    </tr>\n",
       "  </thead>\n",
       "  <tbody>\n",
       "    <tr>\n",
       "      <th>376781</th>\n",
       "      <td>9</td>\n",
       "      <td>0.2</td>\n",
       "      <td>0.306</td>\n",
       "      <td>4.367443</td>\n",
       "      <td>4.376950</td>\n",
       "      <td>457.436000</td>\n",
       "      <td>199.782551</td>\n",
       "      <td>200.217449</td>\n",
       "      <td>99.782787</td>\n",
       "    </tr>\n",
       "    <tr>\n",
       "      <th>377127</th>\n",
       "      <td>25</td>\n",
       "      <td>0.2</td>\n",
       "      <td>0.351</td>\n",
       "      <td>5.649510</td>\n",
       "      <td>5.653269</td>\n",
       "      <td>353.895270</td>\n",
       "      <td>199.933493</td>\n",
       "      <td>200.066507</td>\n",
       "      <td>99.933515</td>\n",
       "    </tr>\n",
       "    <tr>\n",
       "      <th>377466</th>\n",
       "      <td>49</td>\n",
       "      <td>0.2</td>\n",
       "      <td>0.389</td>\n",
       "      <td>6.294962</td>\n",
       "      <td>6.296694</td>\n",
       "      <td>317.670684</td>\n",
       "      <td>199.972476</td>\n",
       "      <td>200.027524</td>\n",
       "      <td>99.972480</td>\n",
       "    </tr>\n",
       "    <tr>\n",
       "      <th>377799</th>\n",
       "      <td>81</td>\n",
       "      <td>0.2</td>\n",
       "      <td>0.421</td>\n",
       "      <td>6.675072</td>\n",
       "      <td>6.675946</td>\n",
       "      <td>299.602627</td>\n",
       "      <td>199.986911</td>\n",
       "      <td>200.013089</td>\n",
       "      <td>99.986912</td>\n",
       "    </tr>\n",
       "    <tr>\n",
       "      <th>378127</th>\n",
       "      <td>121</td>\n",
       "      <td>0.2</td>\n",
       "      <td>0.448</td>\n",
       "      <td>6.923597</td>\n",
       "      <td>6.924103</td>\n",
       "      <td>288.856633</td>\n",
       "      <td>199.992698</td>\n",
       "      <td>200.007302</td>\n",
       "      <td>99.992698</td>\n",
       "    </tr>\n",
       "  </tbody>\n",
       "</table>\n",
       "</div>"
      ],
      "text/plain": [
       "        nleds  d(m)   z(m)  min_E(W/m^2)  max_E(W/m^2)  exposure_time(s)  \\\n",
       "376781      9   0.2  0.306      4.367443      4.376950        457.436000   \n",
       "377127     25   0.2  0.351      5.649510      5.653269        353.895270   \n",
       "377466     49   0.2  0.389      6.294962      6.296694        317.670684   \n",
       "377799     81   0.2  0.421      6.675072      6.675946        299.602627   \n",
       "378127    121   0.2  0.448      6.923597      6.924103        288.856633   \n",
       "\n",
       "        energy_min(mJ/cm^2)  energy_max(mJ^cm^2)  percent_uniformity  \n",
       "376781           199.782551           200.217449           99.782787  \n",
       "377127           199.933493           200.066507           99.933515  \n",
       "377466           199.972476           200.027524           99.972480  \n",
       "377799           199.986911           200.013089           99.986912  \n",
       "378127           199.992698           200.007302           99.992698  "
      ]
     },
     "execution_count": 22,
     "metadata": {},
     "output_type": "execute_result"
    }
   ],
   "source": [
    "idx = df_2.groupby(['nleds'])['percent_uniformity'].transform(max) == df_2['percent_uniformity']\n",
    "df_2[idx].sort_values(\"nleds\")"
   ]
  },
  {
   "cell_type": "markdown",
   "metadata": {},
   "source": [
    "## Minimum_exposure_time"
   ]
  },
  {
   "cell_type": "code",
   "execution_count": 2,
   "metadata": {},
   "outputs": [
    {
     "ename": "NameError",
     "evalue": "name 'df_2' is not defined",
     "output_type": "error",
     "traceback": [
      "\u001b[0;31m---------------------------------------------------------------------------\u001b[0m",
      "\u001b[0;31mNameError\u001b[0m                                 Traceback (most recent call last)",
      "\u001b[0;32m<ipython-input-2-9f12a9e74cf0>\u001b[0m in \u001b[0;36m<module>\u001b[0;34m\u001b[0m\n\u001b[0;32m----> 1\u001b[0;31m \u001b[0mef_2\u001b[0m\u001b[0;34m=\u001b[0m\u001b[0mdf_2\u001b[0m\u001b[0;34m[\u001b[0m\u001b[0mdf_2\u001b[0m\u001b[0;34m[\u001b[0m\u001b[0;34m'percent_uniformity'\u001b[0m\u001b[0;34m]\u001b[0m\u001b[0;34m>\u001b[0m\u001b[0;36m99\u001b[0m\u001b[0;34m]\u001b[0m\u001b[0;34m\u001b[0m\u001b[0;34m\u001b[0m\u001b[0m\n\u001b[0m\u001b[1;32m      2\u001b[0m \u001b[0midx\u001b[0m \u001b[0;34m=\u001b[0m \u001b[0mef_2\u001b[0m\u001b[0;34m.\u001b[0m\u001b[0mgroupby\u001b[0m\u001b[0;34m(\u001b[0m\u001b[0;34m[\u001b[0m\u001b[0;34m'nleds'\u001b[0m\u001b[0;34m]\u001b[0m\u001b[0;34m)\u001b[0m\u001b[0;34m[\u001b[0m\u001b[0;34m'exposure_time(s)'\u001b[0m\u001b[0;34m]\u001b[0m\u001b[0;34m.\u001b[0m\u001b[0mtransform\u001b[0m\u001b[0;34m(\u001b[0m\u001b[0mmin\u001b[0m\u001b[0;34m)\u001b[0m \u001b[0;34m==\u001b[0m \u001b[0mef_2\u001b[0m\u001b[0;34m[\u001b[0m\u001b[0;34m'exposure_time(s)'\u001b[0m\u001b[0;34m]\u001b[0m\u001b[0;34m\u001b[0m\u001b[0;34m\u001b[0m\u001b[0m\n\u001b[1;32m      3\u001b[0m \u001b[0mef_2\u001b[0m\u001b[0;34m[\u001b[0m\u001b[0midx\u001b[0m\u001b[0;34m]\u001b[0m\u001b[0;34m.\u001b[0m\u001b[0msort_values\u001b[0m\u001b[0;34m(\u001b[0m\u001b[0;34m\"nleds\"\u001b[0m\u001b[0;34m)\u001b[0m\u001b[0;34m\u001b[0m\u001b[0;34m\u001b[0m\u001b[0m\n",
      "\u001b[0;31mNameError\u001b[0m: name 'df_2' is not defined"
     ]
    }
   ],
   "source": [
    "ef_2=df_2[df_2['percent_uniformity']>99]\n",
    "idx = ef_2.groupby(['nleds'])['exposure_time(s)'].transform(min) == ef_2['exposure_time(s)']\n",
    "ef_2[idx].sort_values(\"nleds\")"
   ]
  },
  {
   "cell_type": "code",
   "execution_count": 1,
   "metadata": {},
   "outputs": [
    {
     "ename": "NameError",
     "evalue": "name 'ef_2' is not defined",
     "output_type": "error",
     "traceback": [
      "\u001b[0;31m---------------------------------------------------------------------------\u001b[0m",
      "\u001b[0;31mNameError\u001b[0m                                 Traceback (most recent call last)",
      "\u001b[0;32m<ipython-input-1-cf097a7d2a4f>\u001b[0m in \u001b[0;36m<module>\u001b[0;34m\u001b[0m\n\u001b[0;32m----> 1\u001b[0;31m \u001b[0mef_2\u001b[0m\u001b[0;34m\u001b[0m\u001b[0;34m\u001b[0m\u001b[0m\n\u001b[0m",
      "\u001b[0;31mNameError\u001b[0m: name 'ef_2' is not defined"
     ]
    }
   ],
   "source": [
    "ef_2"
   ]
  },
  {
   "cell_type": "code",
   "execution_count": null,
   "metadata": {},
   "outputs": [],
   "source": []
  }
 ],
 "metadata": {
  "kernelspec": {
   "display_name": "Python 3",
   "language": "python",
   "name": "python3"
  },
  "language_info": {
   "codemirror_mode": {
    "name": "ipython",
    "version": 3
   },
   "file_extension": ".py",
   "mimetype": "text/x-python",
   "name": "python",
   "nbconvert_exporter": "python",
   "pygments_lexer": "ipython3",
   "version": "3.8.5"
  }
 },
 "nbformat": 4,
 "nbformat_minor": 4
}
