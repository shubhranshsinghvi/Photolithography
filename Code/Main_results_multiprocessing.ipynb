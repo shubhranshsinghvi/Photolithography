{
 "cells": [
  {
   "cell_type": "code",
   "execution_count": 14,
   "metadata": {},
   "outputs": [
    {
     "ename": "ImportError",
     "evalue": "cannot import name 'Poo' from 'multiprocessing' (/usr/lib/python3.8/multiprocessing/__init__.py)",
     "output_type": "error",
     "traceback": [
      "\u001b[0;31m---------------------------------------------------------------------------\u001b[0m",
      "\u001b[0;31mImportError\u001b[0m                               Traceback (most recent call last)",
      "\u001b[0;32m<ipython-input-14-9141bc4a1dd9>\u001b[0m in \u001b[0;36m<module>\u001b[0;34m\u001b[0m\n\u001b[1;32m      1\u001b[0m \u001b[0;31m#!pip3 install multiprocess\u001b[0m\u001b[0;34m\u001b[0m\u001b[0;34m\u001b[0m\u001b[0;34m\u001b[0m\u001b[0m\n\u001b[0;32m----> 2\u001b[0;31m \u001b[0;32mfrom\u001b[0m \u001b[0mmultiprocessing\u001b[0m \u001b[0;32mimport\u001b[0m \u001b[0mPoo\u001b[0m\u001b[0;34m\u001b[0m\u001b[0;34m\u001b[0m\u001b[0m\n\u001b[0m\u001b[1;32m      3\u001b[0m \u001b[0ml\u001b[0m\u001b[0;34m\u001b[0m\u001b[0;34m\u001b[0m\u001b[0m\n\u001b[1;32m      4\u001b[0m \u001b[0;32mimport\u001b[0m \u001b[0mmath\u001b[0m\u001b[0;34m\u001b[0m\u001b[0;34m\u001b[0m\u001b[0m\n\u001b[1;32m      5\u001b[0m \u001b[0;32mimport\u001b[0m \u001b[0mnumpy\u001b[0m \u001b[0;32mas\u001b[0m \u001b[0mnp\u001b[0m\u001b[0;34m\u001b[0m\u001b[0;34m\u001b[0m\u001b[0m\n",
      "\u001b[0;31mImportError\u001b[0m: cannot import name 'Poo' from 'multiprocessing' (/usr/lib/python3.8/multiprocessing/__init__.py)"
     ]
    }
   ],
   "source": [
    "#!pip3 install multiprocess\n",
    "from multiprocessing import Poo\n",
    "l\n",
    "import math\n",
    "import numpy as np\n",
    "import pandas as pd\n",
    "# !pip3 install tqdm\n",
    "\n",
    "import matplotlib.pyplot as plt\n",
    "from tqdm import tqdm"
   ]
  },
  {
   "cell_type": "code",
   "execution_count": 15,
   "metadata": {},
   "outputs": [],
   "source": [
    "def arrangement_1(nleds,d):\n",
    "\n",
    "    l=math.sqrt(nleds);\n",
    "\n",
    "    ledcord=np.zeros((2,nleds));\n",
    "\n",
    "    temp=0;\n",
    "    for k in range(nleds):\n",
    "        ledcord[0,k]=-(l-1)*d/2 +((k)%l)*d;\n",
    "        if (k)%l ==0 and k != 0:\n",
    "            temp=temp+1;\n",
    "        ledcord[1,k]=-(l-1)*d/2 + temp*d;\n",
    "\n",
    "    return ledcord\n",
    "\n",
    "def E_xy_cent(ledcord,nleds,Ir_0,z,d):\n",
    "    \n",
    "    x=0;\n",
    "    y=0;\n",
    "    E=0;\n",
    "    for i in range(nleds):\n",
    "        den=np.square(np.square(x-ledcord[0,i]) +np.square(y-ledcord[1,i]) +z**2);\n",
    "        E= E + (z**2 * Ir_0)*(np.reciprocal(den));\n",
    "\n",
    "    return E;\n",
    "    \n",
    "def E_xy_end(ledcord,nleds,Ir_0,z,d,x_end):\n",
    "    \n",
    "    x=x_end;\n",
    "    y=0;\n",
    "    E=0;\n",
    "    for i in range(nleds):\n",
    "        den=np.square(np.square(x-ledcord[0,i]) +np.square(y-ledcord[1,i]) +z**2);\n",
    "        E= E + (z**2 * Ir_0)*(np.reciprocal(den));\n",
    "\n",
    "    return E;\n",
    "\n",
    "def plot_E_xy_full(ledcord,nleds,Ir_0,z,d):\n",
    "    l=math.sqrt(nleds)\n",
    "    x = np.arange(-10, 10, 0.01)\n",
    "    y = np.arange(-10, 10, 0.01)\n",
    "\n",
    "    x,y=np.meshgrid(x, y, sparse=False, indexing='ij')\n",
    "\n",
    "    E=np.zeros(np.size(x));\n",
    "\n",
    "    for i in range(nleds):\n",
    "        den=np.square(np.square(x-ledcord[0,i]) +np.square(y-ledcord[1,i]) +z**2);\n",
    "        E= E + (z**2 * Ir_0)*(np.reciprocal(den));\n",
    "        \n",
    "    return E;\n",
    "\n",
    "#     s=surface(x,y,E);\n",
    "#     xlabel('x-coordinate(m)');\n",
    "#     ylabel('y-coordinate(m)');\n",
    "#     zlabel('Irradinace(W/m^2)');\n",
    "#     s.EdgeColor = 'none';\n"
   ]
  },
  {
   "cell_type": "code",
   "execution_count": 16,
   "metadata": {},
   "outputs": [
    {
     "name": "stdout",
     "output_type": "stream",
     "text": [
      "450.9825479895467\n"
     ]
    }
   ],
   "source": [
    "nleds=49;\n",
    "Ir_0 = 1;\n",
    "d=0.122292;\n",
    "z=0.05;\n",
    "ledcord = arrangement_1(nleds,d);\n",
    "x_end=0.0;\n",
    "print(E_xy_end(ledcord,nleds,Ir_0,z,d,x_end))"
   ]
  },
  {
   "cell_type": "code",
   "execution_count": null,
   "metadata": {},
   "outputs": [
    {
     "name": "stderr",
     "output_type": "stream",
     "text": [
      " 26%|██▋       | 10/38 [5:22:37<21:31:47, 2768.14s/it]"
     ]
    }
   ],
   "source": [
    "Ir_0 = 1;\n",
    "\n",
    "# print(plot_E_xy_full(ledcord,nleds,Ir_0,z,d))\n",
    "# E_cent=E_xy_cent(ledcord,nleds,Ir_0,z,d)\n",
    "# E_half = E_cent/2\n",
    "# E_99 = E_cent * 0.99\n",
    "# x_half = 0\n",
    "# x_99 = 0\n",
    "# x_half_flag = False\n",
    "# x_99_flag = False\n",
    "\n",
    "final_list = []\n",
    "\n",
    "\n",
    "def ratio(d):\n",
    "#     for d in np.linspace(0.01,0.2,38):\n",
    "    for nleds in [1,9,25,49,81,121,169]:\n",
    "        ledcord = arrangement_1(nleds,d)\n",
    "        for z in np.linspace(0.05,0.5,90):\n",
    "            E_cent = E_xy_cent(ledcord,nleds,Ir_0,z,d)\n",
    "            E_half = E_cent/2\n",
    "            E_99 = E_cent * 0.99\n",
    "            x_half = 0\n",
    "            x_99 = 0\n",
    "            x_half_flag = False\n",
    "            x_99_flag = False\n",
    "\n",
    "            for x_end in np.linspace(0,5,10000):\n",
    "\n",
    "\n",
    "\n",
    "                E_end=E_xy_end(ledcord,nleds,Ir_0,z,d,x_end)\n",
    "\n",
    "                if E_end < E_half and not x_half_flag:\n",
    "                    x_half = x_end\n",
    "                    x_half_flag = True\n",
    "\n",
    "                if E_end < E_99 and not x_99_flag:\n",
    "                    x_99 = x_end\n",
    "                    x_99_flag = True\n",
    "\n",
    "            final_list.append([nleds,d,z,E_cent,E_99, x_99,E_half,x_half])\n",
    "    return final_list\n",
    "\n",
    "with Pool(7) as p:\n",
    "      l = list(tqdm(p.imap(ratio,np.linspace(0.01,0.2,38)), total=38))\n",
    "# pool=Pool();\n",
    "# l=pool.map(ratio,np.linspace(0.01,0.2,10))\n",
    "# #     ratio(d)"
   ]
  },
  {
   "cell_type": "code",
   "execution_count": null,
   "metadata": {},
   "outputs": [],
   "source": [
    "t=[]\n",
    "for i in l:\n",
    "    t.extend(i)\n",
    "final_list=t"
   ]
  },
  {
   "cell_type": "code",
   "execution_count": null,
   "metadata": {},
   "outputs": [],
   "source": [
    "df = pd.DataFrame(final_list,columns=[\"nleds\",\"d\",\"z\",\"E_cent\",\"E_99\",\"x_99\",\"E_half\",\"x_half\"])"
   ]
  },
  {
   "cell_type": "code",
   "execution_count": null,
   "metadata": {},
   "outputs": [],
   "source": [
    "df[\"ratio\"]=df[\"x_99\"]/df[\"x_half\"]"
   ]
  },
  {
   "cell_type": "code",
   "execution_count": null,
   "metadata": {},
   "outputs": [],
   "source": [
    "len(df[\"E_half\"].unique())"
   ]
  },
  {
   "cell_type": "code",
   "execution_count": null,
   "metadata": {},
   "outputs": [],
   "source": [
    "pd.set_option(\"display.max_rows\", None, \"display.max_columns\", None)\n",
    "df"
   ]
  },
  {
   "cell_type": "code",
   "execution_count": null,
   "metadata": {},
   "outputs": [],
   "source": [
    "plt.plot(df[\"ratio\"])"
   ]
  },
  {
   "cell_type": "code",
   "execution_count": null,
   "metadata": {},
   "outputs": [],
   "source": [
    "len(df[\"ratio\"].unique())"
   ]
  },
  {
   "cell_type": "code",
   "execution_count": null,
   "metadata": {},
   "outputs": [],
   "source": [
    "# ratio_max=max(df[\"ratio\"])\n"
   ]
  },
  {
   "cell_type": "code",
   "execution_count": null,
   "metadata": {},
   "outputs": [],
   "source": [
    "idx = df.groupby(['nleds'])['ratio'].transform(max) == df['ratio']\n",
    "df[idx]"
   ]
  },
  {
   "cell_type": "code",
   "execution_count": null,
   "metadata": {},
   "outputs": [],
   "source": [
    "ef=df[df[\"ratio\"] == df[\"ratio\"].max()]\n",
    "max(ef[\"E_cent\"])"
   ]
  },
  {
   "cell_type": "code",
   "execution_count": null,
   "metadata": {},
   "outputs": [],
   "source": []
  },
  {
   "cell_type": "code",
   "execution_count": null,
   "metadata": {},
   "outputs": [],
   "source": []
  }
 ],
 "metadata": {
  "kernelspec": {
   "display_name": "Python 3",
   "language": "python",
   "name": "python3"
  },
  "language_info": {
   "codemirror_mode": {
    "name": "ipython",
    "version": 3
   },
   "file_extension": ".py",
   "mimetype": "text/x-python",
   "name": "python",
   "nbconvert_exporter": "python",
   "pygments_lexer": "ipython3",
   "version": "3.8.5"
  }
 },
 "nbformat": 4,
 "nbformat_minor": 4
}
