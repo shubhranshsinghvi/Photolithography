{
 "cells": [
  {
   "cell_type": "markdown",
   "metadata": {},
   "source": [
    "# UV_LED_GRID_FOR_PHOTOLITHOGRAPGHY"
   ]
  },
  {
   "cell_type": "code",
   "execution_count": 1,
   "metadata": {},
   "outputs": [],
   "source": [
    "from multiprocessing import Pool\n",
    "import math\n",
    "import numpy as np\n",
    "import pandas as pd\n",
    "import matplotlib.pyplot as plt\n",
    "from tqdm import tqdm"
   ]
  },
  {
   "cell_type": "code",
   "execution_count": 2,
   "metadata": {},
   "outputs": [],
   "source": [
    "ddf_1=pd.read_pickle(\"./ddf_1.pkl\")\n",
    "ddf_2=pd.read_pickle(\"./ddf_2.pkl\")\n",
    "ddf_3=pd.read_pickle(\"./ddf_3.pkl\")"
   ]
  },
  {
   "cell_type": "code",
   "execution_count": 3,
   "metadata": {},
   "outputs": [],
   "source": [
    "df_temp=pd.merge(ddf_1,ddf_2)"
   ]
  },
  {
   "cell_type": "code",
   "execution_count": 4,
   "metadata": {},
   "outputs": [],
   "source": [
    "df=pd.merge(df_temp,ddf_3)"
   ]
  },
  {
   "cell_type": "code",
   "execution_count": 25,
   "metadata": {},
   "outputs": [],
   "source": [
    "# del df[\"energy_max(mJ^cm^2)_3\"]"
   ]
  },
  {
   "cell_type": "code",
   "execution_count": 26,
   "metadata": {},
   "outputs": [
    {
     "data": {
      "text/html": [
       "<div>\n",
       "<style scoped>\n",
       "    .dataframe tbody tr th:only-of-type {\n",
       "        vertical-align: middle;\n",
       "    }\n",
       "\n",
       "    .dataframe tbody tr th {\n",
       "        vertical-align: top;\n",
       "    }\n",
       "\n",
       "    .dataframe thead th {\n",
       "        text-align: right;\n",
       "    }\n",
       "</style>\n",
       "<table border=\"1\" class=\"dataframe\">\n",
       "  <thead>\n",
       "    <tr style=\"text-align: right;\">\n",
       "      <th></th>\n",
       "      <th>nleds</th>\n",
       "      <th>d(m)</th>\n",
       "      <th>z(m)</th>\n",
       "      <th>exposure_time(s)_1</th>\n",
       "      <th>percent_uniformity_1</th>\n",
       "      <th>exposure_time(s)_2</th>\n",
       "      <th>percent_uniformity_2</th>\n",
       "      <th>exposure_time(s)_3</th>\n",
       "      <th>percent_uniformity_3</th>\n",
       "    </tr>\n",
       "  </thead>\n",
       "  <tbody>\n",
       "    <tr>\n",
       "      <th>0</th>\n",
       "      <td>9</td>\n",
       "      <td>0.01</td>\n",
       "      <td>0.010</td>\n",
       "      <td>1.609769</td>\n",
       "      <td>1.652103</td>\n",
       "      <td>1.316737</td>\n",
       "      <td>1.260447</td>\n",
       "      <td>2.066995</td>\n",
       "      <td>2.450514</td>\n",
       "    </tr>\n",
       "    <tr>\n",
       "      <th>1</th>\n",
       "      <td>9</td>\n",
       "      <td>0.01</td>\n",
       "      <td>0.011</td>\n",
       "      <td>1.713494</td>\n",
       "      <td>2.067137</td>\n",
       "      <td>1.402158</td>\n",
       "      <td>1.579463</td>\n",
       "      <td>2.198101</td>\n",
       "      <td>3.050847</td>\n",
       "    </tr>\n",
       "    <tr>\n",
       "      <th>2</th>\n",
       "      <td>9</td>\n",
       "      <td>0.01</td>\n",
       "      <td>0.012</td>\n",
       "      <td>1.815720</td>\n",
       "      <td>2.527452</td>\n",
       "      <td>1.492276</td>\n",
       "      <td>1.941891</td>\n",
       "      <td>2.312863</td>\n",
       "      <td>3.688060</td>\n",
       "    </tr>\n",
       "    <tr>\n",
       "      <th>3</th>\n",
       "      <td>9</td>\n",
       "      <td>0.01</td>\n",
       "      <td>0.013</td>\n",
       "      <td>1.919596</td>\n",
       "      <td>3.034999</td>\n",
       "      <td>1.588585</td>\n",
       "      <td>2.351023</td>\n",
       "      <td>2.418725</td>\n",
       "      <td>4.360924</td>\n",
       "    </tr>\n",
       "    <tr>\n",
       "      <th>4</th>\n",
       "      <td>9</td>\n",
       "      <td>0.01</td>\n",
       "      <td>0.014</td>\n",
       "      <td>2.026979</td>\n",
       "      <td>3.591311</td>\n",
       "      <td>1.691729</td>\n",
       "      <td>2.809479</td>\n",
       "      <td>2.521021</td>\n",
       "      <td>5.069618</td>\n",
       "    </tr>\n",
       "    <tr>\n",
       "      <th>...</th>\n",
       "      <td>...</td>\n",
       "      <td>...</td>\n",
       "      <td>...</td>\n",
       "      <td>...</td>\n",
       "      <td>...</td>\n",
       "      <td>...</td>\n",
       "      <td>...</td>\n",
       "      <td>...</td>\n",
       "      <td>...</td>\n",
       "    </tr>\n",
       "    <tr>\n",
       "      <th>378175</th>\n",
       "      <td>121</td>\n",
       "      <td>0.20</td>\n",
       "      <td>0.496</td>\n",
       "      <td>296.510814</td>\n",
       "      <td>99.973575</td>\n",
       "      <td>236.900544</td>\n",
       "      <td>99.948822</td>\n",
       "      <td>429.910720</td>\n",
       "      <td>99.975951</td>\n",
       "    </tr>\n",
       "    <tr>\n",
       "      <th>378176</th>\n",
       "      <td>121</td>\n",
       "      <td>0.20</td>\n",
       "      <td>0.497</td>\n",
       "      <td>296.679239</td>\n",
       "      <td>99.973504</td>\n",
       "      <td>237.071909</td>\n",
       "      <td>99.948803</td>\n",
       "      <td>430.096072</td>\n",
       "      <td>99.975929</td>\n",
       "    </tr>\n",
       "    <tr>\n",
       "      <th>378177</th>\n",
       "      <td>121</td>\n",
       "      <td>0.20</td>\n",
       "      <td>0.498</td>\n",
       "      <td>296.847999</td>\n",
       "      <td>99.973434</td>\n",
       "      <td>237.243565</td>\n",
       "      <td>99.948783</td>\n",
       "      <td>430.281699</td>\n",
       "      <td>99.975907</td>\n",
       "    </tr>\n",
       "    <tr>\n",
       "      <th>378178</th>\n",
       "      <td>121</td>\n",
       "      <td>0.20</td>\n",
       "      <td>0.499</td>\n",
       "      <td>297.017092</td>\n",
       "      <td>99.973363</td>\n",
       "      <td>237.415511</td>\n",
       "      <td>99.948762</td>\n",
       "      <td>430.467599</td>\n",
       "      <td>99.975885</td>\n",
       "    </tr>\n",
       "    <tr>\n",
       "      <th>378179</th>\n",
       "      <td>121</td>\n",
       "      <td>0.20</td>\n",
       "      <td>0.500</td>\n",
       "      <td>297.186520</td>\n",
       "      <td>99.973293</td>\n",
       "      <td>237.587747</td>\n",
       "      <td>99.948742</td>\n",
       "      <td>430.653773</td>\n",
       "      <td>99.975863</td>\n",
       "    </tr>\n",
       "  </tbody>\n",
       "</table>\n",
       "<p>378180 rows × 9 columns</p>\n",
       "</div>"
      ],
      "text/plain": [
       "        nleds  d(m)   z(m)  exposure_time(s)_1  percent_uniformity_1  \\\n",
       "0           9  0.01  0.010            1.609769              1.652103   \n",
       "1           9  0.01  0.011            1.713494              2.067137   \n",
       "2           9  0.01  0.012            1.815720              2.527452   \n",
       "3           9  0.01  0.013            1.919596              3.034999   \n",
       "4           9  0.01  0.014            2.026979              3.591311   \n",
       "...       ...   ...    ...                 ...                   ...   \n",
       "378175    121  0.20  0.496          296.510814             99.973575   \n",
       "378176    121  0.20  0.497          296.679239             99.973504   \n",
       "378177    121  0.20  0.498          296.847999             99.973434   \n",
       "378178    121  0.20  0.499          297.017092             99.973363   \n",
       "378179    121  0.20  0.500          297.186520             99.973293   \n",
       "\n",
       "        exposure_time(s)_2  percent_uniformity_2  exposure_time(s)_3  \\\n",
       "0                 1.316737              1.260447            2.066995   \n",
       "1                 1.402158              1.579463            2.198101   \n",
       "2                 1.492276              1.941891            2.312863   \n",
       "3                 1.588585              2.351023            2.418725   \n",
       "4                 1.691729              2.809479            2.521021   \n",
       "...                    ...                   ...                 ...   \n",
       "378175          236.900544             99.948822          429.910720   \n",
       "378176          237.071909             99.948803          430.096072   \n",
       "378177          237.243565             99.948783          430.281699   \n",
       "378178          237.415511             99.948762          430.467599   \n",
       "378179          237.587747             99.948742          430.653773   \n",
       "\n",
       "        percent_uniformity_3  \n",
       "0                   2.450514  \n",
       "1                   3.050847  \n",
       "2                   3.688060  \n",
       "3                   4.360924  \n",
       "4                   5.069618  \n",
       "...                      ...  \n",
       "378175             99.975951  \n",
       "378176             99.975929  \n",
       "378177             99.975907  \n",
       "378178             99.975885  \n",
       "378179             99.975863  \n",
       "\n",
       "[378180 rows x 9 columns]"
      ]
     },
     "execution_count": 26,
     "metadata": {},
     "output_type": "execute_result"
    }
   ],
   "source": [
    "df"
   ]
  },
  {
   "cell_type": "code",
   "execution_count": 49,
   "metadata": {},
   "outputs": [
    {
     "data": {
      "text/plain": [
       "False    327704\n",
       "True      50476\n",
       "dtype: int64"
      ]
     },
     "execution_count": 49,
     "metadata": {},
     "output_type": "execute_result"
    }
   ],
   "source": [
    "((df[\"percent_uniformity_2\"])>(df[\"percent_uniformity_3\"])).value_counts()"
   ]
  },
  {
   "cell_type": "code",
   "execution_count": 51,
   "metadata": {},
   "outputs": [
    {
     "data": {
      "text/plain": [
       "False    378178\n",
       "True          2\n",
       "dtype: int64"
      ]
     },
     "execution_count": 51,
     "metadata": {},
     "output_type": "execute_result"
    }
   ],
   "source": [
    "((df[\"exposure_time(s)_1\"])>(df[\"exposure_time(s)_3\"])).value_counts()"
   ]
  },
  {
   "cell_type": "code",
   "execution_count": 52,
   "metadata": {},
   "outputs": [],
   "source": [
    "df.to_pickle(\"./df.pkl\")"
   ]
  },
  {
   "cell_type": "code",
   "execution_count": null,
   "metadata": {},
   "outputs": [],
   "source": []
  }
 ],
 "metadata": {
  "kernelspec": {
   "display_name": "Python 3",
   "language": "python",
   "name": "python3"
  },
  "language_info": {
   "codemirror_mode": {
    "name": "ipython",
    "version": 3
   },
   "file_extension": ".py",
   "mimetype": "text/x-python",
   "name": "python",
   "nbconvert_exporter": "python",
   "pygments_lexer": "ipython3",
   "version": "3.8.5"
  }
 },
 "nbformat": 4,
 "nbformat_minor": 4
}
