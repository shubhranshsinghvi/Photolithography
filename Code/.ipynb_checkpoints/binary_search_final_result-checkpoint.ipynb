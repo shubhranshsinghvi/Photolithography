{
 "cells": [
  {
   "cell_type": "code",
   "execution_count": 49,
   "metadata": {},
   "outputs": [],
   "source": [
    "from multiprocessing import Pool\n",
    "import math\n",
    "import numpy as np\n",
    "import pandas as pd\n",
    "import matplotlib.pyplot as plt\n",
    "from tqdm import tqdm"
   ]
  },
  {
   "cell_type": "code",
   "execution_count": 115,
   "metadata": {},
   "outputs": [],
   "source": [
    "def arrangement_1(nleds,d):\n",
    "\n",
    "    l=math.sqrt(nleds);\n",
    "\n",
    "    ledcord=np.zeros((2,nleds));\n",
    "\n",
    "    temp=0;\n",
    "    for k in range(nleds):\n",
    "        ledcord[0,k]=-(l-1)*d/2 +((k)%l)*d;\n",
    "        if (k)%l ==0 and k != 0:\n",
    "            temp=temp+1;\n",
    "        ledcord[1,k]=-(l-1)*d/2 + temp*d;\n",
    "\n",
    "    return ledcord\n",
    "    \n",
    "def E_r(ledcord,nleds,Ir_0,z,d,r):\n",
    "    \n",
    "    x=r;\n",
    "    y=0;\n",
    "    E=0;\n",
    "    for i in range(nleds):\n",
    "        den=np.square(np.square(x-ledcord[0,i]) +np.square(y-ledcord[1,i]) +z**2);\n",
    "        E= E + (z**2 * Ir_0)*(np.reciprocal(den))\n",
    "    return E\n",
    "\n",
    "\n",
    "def bin_search(ledcord,nleds,Ir_0,z,d,r_arr, r_lo, r_up, E_req):\n",
    "    r_mid=(r_up+r_lo)//2 \n",
    "#     print(r_mid)\n",
    "#     print(E_req)\n",
    "#     print(E_r(ledcord,nleds,Ir_0,z,d,r_arr[r_mid]))\n",
    "    if E_r(ledcord,nleds,Ir_0,z,d,r_arr[r_mid-1])> E_req and E_r(ledcord,nleds,Ir_0,z,d,r_arr[r_mid])<= E_req:\n",
    "        return r_arr[r_mid]\n",
    "    \n",
    "    elif E_r(ledcord,nleds,Ir_0,z,d,r_arr[r_mid])> E_req and E_r(ledcord,nleds,Ir_0,z,d,r_arr[r_mid-1])> E_req:\n",
    "        return bin_search(ledcord,nleds,Ir_0,z,d,r_arr,r_mid,r_up,E_req)\n",
    "    \n",
    "    else:\n",
    "        return bin_search(ledcord,nleds,Ir_0,z,d,r_arr, r_lo, r_mid, E_req)\n",
    "  "
   ]
  },
  {
   "cell_type": "code",
   "execution_count": null,
   "metadata": {},
   "outputs": [],
   "source": []
  },
  {
   "cell_type": "code",
   "execution_count": 117,
   "metadata": {},
   "outputs": [
    {
     "name": "stderr",
     "output_type": "stream",
     "text": [
      "100%|██████████| 9/9 [00:01<00:00,  5.13it/s]\n"
     ]
    }
   ],
   "source": [
    "Ir_0 = 1;\n",
    "final_list = []\n",
    "r_arr = np.linspace(0,5,5001)\n",
    "r_up=len(r_arr)-1\n",
    "r_lo=0\n",
    "def ratio(d):\n",
    "    final_list = []\n",
    "    for nleds in [9,25,49,81,121,169]:\n",
    "        lled=np.sqrt(nleds)\n",
    "        if((lled-1)*d>0.5):\n",
    "            break\n",
    "        else:     \n",
    "            ledcord = arrangement_1(nleds,d)\n",
    "            for z in np.linspace(0.05,0.5,9):\n",
    "                E_cent = E_r(ledcord,nleds,Ir_0,z,d,0)\n",
    "                E_half = E_cent/2\n",
    "                E_99 = E_cent * 0.99\n",
    "                r_99 = bin_search(ledcord,nleds,Ir_0,z,d,r_arr, r_lo, r_up, E_99)\n",
    "                r_half = bin_search(ledcord,nleds,Ir_0,z,d,r_arr, r_lo, r_up, E_half)\n",
    "                final_list.append([nleds,d,z,E_cent,E_99, r_99,E_half,r_half])\n",
    "    return final_list\n",
    "\n",
    "with Pool(7) as p:\n",
    "      l = list(tqdm(p.imap(ratio,np.linspace(0.01,0.2,9)), total=9))"
   ]
  },
  {
   "cell_type": "code",
   "execution_count": 122,
   "metadata": {},
   "outputs": [
    {
     "data": {
      "text/plain": [
       "[]"
      ]
     },
     "execution_count": 122,
     "metadata": {},
     "output_type": "execute_result"
    }
   ],
   "source": [
    "final_list"
   ]
  },
  {
   "cell_type": "code",
   "execution_count": 118,
   "metadata": {},
   "outputs": [],
   "source": [
    "df = pd.DataFrame(final_list,columns=[\"d\",\"z\",\"E_cent\",\"E_99\",\"x_99\",\"E_half\",\"x_half\"])"
   ]
  },
  {
   "cell_type": "code",
   "execution_count": 119,
   "metadata": {},
   "outputs": [],
   "source": [
    "df[\"ratio\"]=df[\"x_99\"]/df[\"x_half\"]"
   ]
  },
  {
   "cell_type": "code",
   "execution_count": 121,
   "metadata": {},
   "outputs": [
    {
     "data": {
      "text/plain": [
       "0"
      ]
     },
     "execution_count": 121,
     "metadata": {},
     "output_type": "execute_result"
    }
   ],
   "source": [
    "len(df[\"E_99\"].unique())"
   ]
  },
  {
   "cell_type": "code",
   "execution_count": 113,
   "metadata": {},
   "outputs": [
    {
     "data": {
      "text/html": [
       "<div>\n",
       "<style scoped>\n",
       "    .dataframe tbody tr th:only-of-type {\n",
       "        vertical-align: middle;\n",
       "    }\n",
       "\n",
       "    .dataframe tbody tr th {\n",
       "        vertical-align: top;\n",
       "    }\n",
       "\n",
       "    .dataframe thead th {\n",
       "        text-align: right;\n",
       "    }\n",
       "</style>\n",
       "<table border=\"1\" class=\"dataframe\">\n",
       "  <thead>\n",
       "    <tr style=\"text-align: right;\">\n",
       "      <th></th>\n",
       "      <th>d</th>\n",
       "      <th>z</th>\n",
       "      <th>E_cent</th>\n",
       "      <th>E_99</th>\n",
       "      <th>x_99</th>\n",
       "      <th>E_half</th>\n",
       "      <th>x_half</th>\n",
       "      <th>ratio</th>\n",
       "    </tr>\n",
       "  </thead>\n",
       "  <tbody>\n",
       "  </tbody>\n",
       "</table>\n",
       "</div>"
      ],
      "text/plain": [
       "Empty DataFrame\n",
       "Columns: [d, z, E_cent, E_99, x_99, E_half, x_half, ratio]\n",
       "Index: []"
      ]
     },
     "execution_count": 113,
     "metadata": {},
     "output_type": "execute_result"
    }
   ],
   "source": [
    "pd.set_option(\"display.max_rows\", None, \"display.max_columns\", None)\n",
    "df"
   ]
  },
  {
   "cell_type": "code",
   "execution_count": 114,
   "metadata": {},
   "outputs": [
    {
     "data": {
      "text/plain": [
       "[<matplotlib.lines.Line2D at 0x7ff0f1edd250>]"
      ]
     },
     "execution_count": 114,
     "metadata": {},
     "output_type": "execute_result"
    },
    {
     "data": {
      "image/png": "[encoded data removed]",
      "text/plain": [
       "<Figure size 432x288 with 1 Axes>"
      ]
     },
     "metadata": {
      "needs_background": "light"
     },
     "output_type": "display_data"
    }
   ],
   "source": [
    "plt.plot(df[\"ratio\"])"
   ]
  },
  {
   "cell_type": "code",
   "execution_count": 57,
   "metadata": {},
   "outputs": [
    {
     "data": {
      "text/plain": [
       "0"
      ]
     },
     "execution_count": 57,
     "metadata": {},
     "output_type": "execute_result"
    }
   ],
   "source": [
    "len(df[\"ratio\"].unique())"
   ]
  },
  {
   "cell_type": "code",
   "execution_count": 58,
   "metadata": {},
   "outputs": [],
   "source": [
    "# ratio_max=max(df[\"ratio\"])\n"
   ]
  },
  {
   "cell_type": "code",
   "execution_count": 59,
   "metadata": {},
   "outputs": [
    {
     "data": {
      "text/html": [
       "<div>\n",
       "<style scoped>\n",
       "    .dataframe tbody tr th:only-of-type {\n",
       "        vertical-align: middle;\n",
       "    }\n",
       "\n",
       "    .dataframe tbody tr th {\n",
       "        vertical-align: top;\n",
       "    }\n",
       "\n",
       "    .dataframe thead th {\n",
       "        text-align: right;\n",
       "    }\n",
       "</style>\n",
       "<table border=\"1\" class=\"dataframe\">\n",
       "  <thead>\n",
       "    <tr style=\"text-align: right;\">\n",
       "      <th></th>\n",
       "      <th>d</th>\n",
       "      <th>z</th>\n",
       "      <th>E_cent</th>\n",
       "      <th>E_99</th>\n",
       "      <th>x_99</th>\n",
       "      <th>E_half</th>\n",
       "      <th>x_half</th>\n",
       "      <th>ratio</th>\n",
       "    </tr>\n",
       "  </thead>\n",
       "  <tbody>\n",
       "  </tbody>\n",
       "</table>\n",
       "</div>"
      ],
      "text/plain": [
       "Empty DataFrame\n",
       "Columns: [d, z, E_cent, E_99, x_99, E_half, x_half, ratio]\n",
       "Index: []"
      ]
     },
     "execution_count": 59,
     "metadata": {},
     "output_type": "execute_result"
    }
   ],
   "source": [
    "df[df[\"ratio\"] == df[\"ratio\"].max()]"
   ]
  },
  {
   "cell_type": "code",
   "execution_count": 60,
   "metadata": {},
   "outputs": [
    {
     "ename": "ValueError",
     "evalue": "max() arg is an empty sequence",
     "output_type": "error",
     "traceback": [
      "\u001b[0;31m---------------------------------------------------------------------------\u001b[0m",
      "\u001b[0;31mValueError\u001b[0m                                Traceback (most recent call last)",
      "\u001b[0;32m<ipython-input-60-1826cd8f0259>\u001b[0m in \u001b[0;36m<module>\u001b[0;34m\u001b[0m\n\u001b[1;32m      1\u001b[0m \u001b[0mef\u001b[0m\u001b[0;34m=\u001b[0m\u001b[0mdf\u001b[0m\u001b[0;34m[\u001b[0m\u001b[0mdf\u001b[0m\u001b[0;34m[\u001b[0m\u001b[0;34m\"ratio\"\u001b[0m\u001b[0;34m]\u001b[0m \u001b[0;34m==\u001b[0m \u001b[0mdf\u001b[0m\u001b[0;34m[\u001b[0m\u001b[0;34m\"ratio\"\u001b[0m\u001b[0;34m]\u001b[0m\u001b[0;34m.\u001b[0m\u001b[0mmax\u001b[0m\u001b[0;34m(\u001b[0m\u001b[0;34m)\u001b[0m\u001b[0;34m]\u001b[0m\u001b[0;34m\u001b[0m\u001b[0;34m\u001b[0m\u001b[0m\n\u001b[0;32m----> 2\u001b[0;31m \u001b[0mmax\u001b[0m\u001b[0;34m(\u001b[0m\u001b[0mef\u001b[0m\u001b[0;34m[\u001b[0m\u001b[0;34m\"E_cent\"\u001b[0m\u001b[0;34m]\u001b[0m\u001b[0;34m)\u001b[0m\u001b[0;34m\u001b[0m\u001b[0;34m\u001b[0m\u001b[0m\n\u001b[0m",
      "\u001b[0;31mValueError\u001b[0m: max() arg is an empty sequence"
     ]
    }
   ],
   "source": [
    "ef=df[df[\"ratio\"] == df[\"ratio\"].max()]\n",
    "max(ef[\"E_cent\"])"
   ]
  },
  {
   "cell_type": "code",
   "execution_count": 61,
   "metadata": {},
   "outputs": [
    {
     "data": {
      "text/plain": [
       "array([0.000e+00, 1.000e-03, 2.000e-03, ..., 4.998e+00, 4.999e+00,\n",
       "       5.000e+00])"
      ]
     },
     "execution_count": 61,
     "metadata": {},
     "output_type": "execute_result"
    }
   ],
   "source": [
    "np.linspace(0,5,5001)"
   ]
  },
  {
   "cell_type": "code",
   "execution_count": 38,
   "metadata": {},
   "outputs": [
    {
     "ename": "RecursionError",
     "evalue": "maximum recursion depth exceeded in comparison",
     "output_type": "error",
     "traceback": [
      "\u001b[0;31m---------------------------------------------------------------------------\u001b[0m",
      "\u001b[0;31mRecursionError\u001b[0m                            Traceback (most recent call last)",
      "\u001b[0;32m<ipython-input-38-9d5d91af3ebf>\u001b[0m in \u001b[0;36m<module>\u001b[0;34m\u001b[0m\n\u001b[1;32m      9\u001b[0m \u001b[0mE_cent\u001b[0m \u001b[0;34m=\u001b[0m \u001b[0mE_r\u001b[0m\u001b[0;34m(\u001b[0m\u001b[0mledcord\u001b[0m\u001b[0;34m,\u001b[0m\u001b[0mnleds\u001b[0m\u001b[0;34m,\u001b[0m\u001b[0mIr_0\u001b[0m\u001b[0;34m,\u001b[0m\u001b[0mz\u001b[0m\u001b[0;34m,\u001b[0m\u001b[0md\u001b[0m\u001b[0;34m,\u001b[0m\u001b[0;36m0\u001b[0m\u001b[0;34m)\u001b[0m\u001b[0;34m\u001b[0m\u001b[0;34m\u001b[0m\u001b[0m\n\u001b[1;32m     10\u001b[0m \u001b[0mE_99\u001b[0m \u001b[0;34m=\u001b[0m \u001b[0mE_cent\u001b[0m \u001b[0;34m*\u001b[0m \u001b[0;36m0.99\u001b[0m\u001b[0;34m\u001b[0m\u001b[0;34m\u001b[0m\u001b[0m\n\u001b[0;32m---> 11\u001b[0;31m \u001b[0mr_99\u001b[0m \u001b[0;34m=\u001b[0m \u001b[0mbin_search\u001b[0m\u001b[0;34m(\u001b[0m\u001b[0mledcord\u001b[0m\u001b[0;34m,\u001b[0m\u001b[0mnleds\u001b[0m\u001b[0;34m,\u001b[0m\u001b[0mIr_0\u001b[0m\u001b[0;34m,\u001b[0m\u001b[0mz\u001b[0m\u001b[0;34m,\u001b[0m\u001b[0md\u001b[0m\u001b[0;34m,\u001b[0m\u001b[0mr_arr\u001b[0m\u001b[0;34m,\u001b[0m \u001b[0mr_lo\u001b[0m\u001b[0;34m,\u001b[0m \u001b[0mr_up\u001b[0m\u001b[0;34m,\u001b[0m \u001b[0mE_99\u001b[0m\u001b[0;34m)\u001b[0m\u001b[0;34m\u001b[0m\u001b[0;34m\u001b[0m\u001b[0m\n\u001b[0m",
      "\u001b[0;32m<ipython-input-30-f0c79488d0ae>\u001b[0m in \u001b[0;36mbin_search\u001b[0;34m(ledcord, nleds, Ir_0, z, d, r_arr, r_lo, r_up, E_req)\u001b[0m\n\u001b[1;32m     34\u001b[0m \u001b[0;34m\u001b[0m\u001b[0m\n\u001b[1;32m     35\u001b[0m     \u001b[0;32melse\u001b[0m\u001b[0;34m:\u001b[0m\u001b[0;34m\u001b[0m\u001b[0;34m\u001b[0m\u001b[0m\n\u001b[0;32m---> 36\u001b[0;31m         \u001b[0;32mreturn\u001b[0m \u001b[0mbin_search\u001b[0m\u001b[0;34m(\u001b[0m\u001b[0mledcord\u001b[0m\u001b[0;34m,\u001b[0m\u001b[0mnleds\u001b[0m\u001b[0;34m,\u001b[0m\u001b[0mIr_0\u001b[0m\u001b[0;34m,\u001b[0m\u001b[0mz\u001b[0m\u001b[0;34m,\u001b[0m\u001b[0md\u001b[0m\u001b[0;34m,\u001b[0m\u001b[0mr_arr\u001b[0m\u001b[0;34m,\u001b[0m \u001b[0mr_mid\u001b[0m\u001b[0;34m,\u001b[0m \u001b[0mr_up\u001b[0m\u001b[0;34m,\u001b[0m \u001b[0mE_req\u001b[0m\u001b[0;34m)\u001b[0m\u001b[0;34m\u001b[0m\u001b[0;34m\u001b[0m\u001b[0m\n\u001b[0m\u001b[1;32m     37\u001b[0m \u001b[0;34m\u001b[0m\u001b[0m\n",
      "... last 1 frames repeated, from the frame below ...\n",
      "\u001b[0;32m<ipython-input-30-f0c79488d0ae>\u001b[0m in \u001b[0;36mbin_search\u001b[0;34m(ledcord, nleds, Ir_0, z, d, r_arr, r_lo, r_up, E_req)\u001b[0m\n\u001b[1;32m     34\u001b[0m \u001b[0;34m\u001b[0m\u001b[0m\n\u001b[1;32m     35\u001b[0m     \u001b[0;32melse\u001b[0m\u001b[0;34m:\u001b[0m\u001b[0;34m\u001b[0m\u001b[0;34m\u001b[0m\u001b[0m\n\u001b[0;32m---> 36\u001b[0;31m         \u001b[0;32mreturn\u001b[0m \u001b[0mbin_search\u001b[0m\u001b[0;34m(\u001b[0m\u001b[0mledcord\u001b[0m\u001b[0;34m,\u001b[0m\u001b[0mnleds\u001b[0m\u001b[0;34m,\u001b[0m\u001b[0mIr_0\u001b[0m\u001b[0;34m,\u001b[0m\u001b[0mz\u001b[0m\u001b[0;34m,\u001b[0m\u001b[0md\u001b[0m\u001b[0;34m,\u001b[0m\u001b[0mr_arr\u001b[0m\u001b[0;34m,\u001b[0m \u001b[0mr_mid\u001b[0m\u001b[0;34m,\u001b[0m \u001b[0mr_up\u001b[0m\u001b[0;34m,\u001b[0m \u001b[0mE_req\u001b[0m\u001b[0;34m)\u001b[0m\u001b[0;34m\u001b[0m\u001b[0;34m\u001b[0m\u001b[0m\n\u001b[0m\u001b[1;32m     37\u001b[0m \u001b[0;34m\u001b[0m\u001b[0m\n",
      "\u001b[0;31mRecursionError\u001b[0m: maximum recursion depth exceeded in comparison"
     ]
    }
   ],
   "source": []
  },
  {
   "cell_type": "code",
   "execution_count": 98,
   "metadata": {},
   "outputs": [],
   "source": [
    "def bin_search(ledcord,nleds,Ir_0,z,d,r_arr, r_lo, r_up, E_req):\n",
    "    r_mid=(r_up+r_lo)//2 \n",
    "    print(r_mid)\n",
    "    print(E_req)\n",
    "    print(E_r(ledcord,nleds,Ir_0,z,d,r_arr[r_mid]))\n",
    "    if E_r(ledcord,nleds,Ir_0,z,d,r_arr[r_mid-1])> E_req and E_r(ledcord,nleds,Ir_0,z,d,r_arr[r_mid])<= E_req:\n",
    "        return E_r(ledcord,nleds,Ir_0,z,d,r_arr[r_mid]),r_arr[r_mid]\n",
    "    \n",
    "    elif E_r(ledcord,nleds,Ir_0,z,d,r_arr[r_mid])> E_req and E_r(ledcord,nleds,Ir_0,z,d,r_arr[r_mid-1])> E_req:\n",
    "        return bin_search(ledcord,nleds,Ir_0,z,d,r_arr,r_mid,r_up,E_req)\n",
    "    \n",
    "    else:\n",
    "        return bin_search(ledcord,nleds,Ir_0,z,d,r_arr, r_lo, r_mid, E_req)\n",
    "  "
   ]
  },
  {
   "cell_type": "raw",
   "metadata": {},
   "source": []
  },
  {
   "cell_type": "code",
   "execution_count": 99,
   "metadata": {},
   "outputs": [
    {
     "name": "stdout",
     "output_type": "stream",
     "text": [
      "5000\n",
      "170.5025798337927\n",
      "0.00995265309048339\n",
      "2500\n",
      "170.5025798337927\n",
      "0.27762531915316496\n",
      "1250\n",
      "170.5025798337927\n",
      "138.86931571331604\n",
      "625\n",
      "170.5025798337927\n",
      "63.18106273587166\n",
      "312\n",
      "170.5025798337927\n",
      "112.0721110492921\n",
      "156\n",
      "170.5025798337927\n",
      "68.71752339980826\n",
      "78\n",
      "170.5025798337927\n",
      "121.28608414750713\n",
      "39\n",
      "170.5025798337927\n",
      "156.1456424907789\n",
      "19\n",
      "170.5025798337927\n",
      "168.1479449178655\n",
      "9\n",
      "170.5025798337927\n",
      "171.29492251544363\n",
      "14\n",
      "170.5025798337927\n",
      "169.98986579857285\n",
      "11\n",
      "170.5025798337927\n",
      "170.83898175186454\n",
      "12\n",
      "170.5025798337927\n",
      "170.57778822238356\n",
      "13\n",
      "170.5025798337927\n",
      "170.2946839429154\n"
     ]
    }
   ],
   "source": [
    "d=0.2\n",
    "z=0.0807\n",
    "nleds=49\n",
    "Ir_0=1\n",
    "ledcord = arrangement_1(nleds,d)\n",
    "r_arr = np.linspace(0,5,10001)\n",
    "r_up=len(r_arr)-1\n",
    "r_lo=0\n",
    "E_cent = E_r(ledcord,nleds,Ir_0,z,d,0)\n",
    "E_99 = E_cent * 0.99\n",
    "r_99 = bin_search(ledcord,nleds,Ir_0,z,d,r_arr, r_lo, r_up, E_99)"
   ]
  },
  {
   "cell_type": "code",
   "execution_count": 100,
   "metadata": {},
   "outputs": [
    {
     "data": {
      "text/plain": [
       "(170.2946839429154, 0.006500000000000001)"
      ]
     },
     "execution_count": 100,
     "metadata": {},
     "output_type": "execute_result"
    }
   ],
   "source": [
    "r_99"
   ]
  },
  {
   "cell_type": "code",
   "execution_count": 84,
   "metadata": {},
   "outputs": [
    {
     "data": {
      "text/plain": [
       "10000"
      ]
     },
     "execution_count": 84,
     "metadata": {},
     "output_type": "execute_result"
    }
   ],
   "source": [
    "r_up"
   ]
  },
  {
   "cell_type": "code",
   "execution_count": 85,
   "metadata": {},
   "outputs": [
    {
     "data": {
      "text/plain": [
       "170.5025798337927"
      ]
     },
     "execution_count": 85,
     "metadata": {},
     "output_type": "execute_result"
    }
   ],
   "source": [
    "E_99"
   ]
  },
  {
   "cell_type": "code",
   "execution_count": null,
   "metadata": {},
   "outputs": [],
   "source": []
  }
 ],
 "metadata": {
  "kernelspec": {
   "display_name": "Python 3",
   "language": "python",
   "name": "python3"
  },
  "language_info": {
   "codemirror_mode": {
    "name": "ipython",
    "version": 3
   },
   "file_extension": ".py",
   "mimetype": "text/x-python",
   "name": "python",
   "nbconvert_exporter": "python",
   "pygments_lexer": "ipython3",
   "version": "3.8.5"
  }
 },
 "nbformat": 4,
 "nbformat_minor": 4
}
