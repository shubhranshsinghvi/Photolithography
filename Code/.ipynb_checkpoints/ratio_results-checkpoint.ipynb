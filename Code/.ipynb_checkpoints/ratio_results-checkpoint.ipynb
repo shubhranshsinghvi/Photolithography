{
 "cells": [
  {
   "cell_type": "code",
   "execution_count": 11,
   "metadata": {},
   "outputs": [],
   "source": [
    "import math\n",
    "import numpy as np\n",
    "import pandas as pd\n",
    "# !pip3 install matplotlib\n",
    "import matplotlib.pyplot as plt"
   ]
  },
  {
   "cell_type": "code",
   "execution_count": 64,
   "metadata": {},
   "outputs": [],
   "source": [
    "def arrangement_1(nleds,d):\n",
    "\n",
    "    l=math.sqrt(nleds);\n",
    "\n",
    "    ledcord=np.zeros((2,nleds));\n",
    "\n",
    "    temp=0;\n",
    "    for k in range(nleds):\n",
    "        ledcord[0,k]=-(l-1)*d/2 +((k)%l)*d;\n",
    "        if (k)%l ==0 and k != 0:\n",
    "            temp=temp+1;\n",
    "        ledcord[1,k]=-(l-1)*d/2 + temp*d;\n",
    "\n",
    "    return ledcord\n",
    "\n",
    "def E_xy_cent(ledcord,nleds,Ir_0,z,d):\n",
    "    \n",
    "    x=0;\n",
    "    y=0;\n",
    "\n",
    "    E=0;\n",
    "    for i in range(nleds):\n",
    "        den=np.square(np.square(x-ledcord[0,i]) +np.square(y-ledcord[1,i]) +z**2);\n",
    "        E= E + (z**2 * Ir_0)*(np.reciprocal(den));\n",
    "\n",
    "    return E;\n",
    "    \n",
    "def E_xy_end(ledcord,nleds,Ir_0,z,d,x_end):\n",
    "    \n",
    "    x=x_end;\n",
    "    y=0;\n",
    "\n",
    "    E=0;\n",
    "    for i in range(nleds):\n",
    "        den=np.square(np.square(x-ledcord[0,i]) +np.square(y-ledcord[1,i]) +z**2);\n",
    "        E= E + (z**2 * Ir_0)*(np.reciprocal(den));\n",
    "\n",
    "    return E;\n",
    "\n",
    "def plot_E_xy_full(ledcord,nleds,Ir_0,z,d):\n",
    "    l=math.sqrt(nleds)\n",
    "    x = np.arange(-10, 10, 0.01)\n",
    "    y = np.arange(-10, 10, 0.01)\n",
    "\n",
    "    x,y=np.meshgrid(x, y, sparse=False, indexing='ij')\n",
    "\n",
    "    E=np.zeros(np.size(x));\n",
    "\n",
    "    for i in range(nleds):\n",
    "        den=np.square(np.square(x-ledcord[0,i]) +np.square(y-ledcord[1,i]) +z**2);\n",
    "        E= E + (z**2 * Ir_0)*(np.reciprocal(den));\n",
    "        \n",
    "    return E;\n",
    "\n",
    "#     s=surface(x,y,E);\n",
    "#     xlabel('x-coordinate(m)');\n",
    "#     ylabel('y-coordinate(m)');\n",
    "#     zlabel('Irradinace(W/m^2)');\n",
    "#     s.EdgeColor = 'none';\n"
   ]
  },
  {
   "cell_type": "code",
   "execution_count": 77,
   "metadata": {},
   "outputs": [
    {
     "name": "stdout",
     "output_type": "stream",
     "text": [
      "[[10.0, 0.781563126252505, 3.567134268537074]]\n"
     ]
    }
   ],
   "source": [
    "nleds=49;\n",
    "Ir_0 = 100;\n",
    "d =1;\n",
    "z=1.5;\n",
    "th=0;\n",
    "x_end=2;\n",
    "ledcord = arrangement_1(nleds,d)\n",
    "# print(plot_E_xy_full(ledcord,nleds,Ir_0,z,d))\n",
    "E_cent=E_xy_cent(ledcord,nleds,Ir_0,z,d)\n",
    "\n",
    "E_half = E_cent/2\n",
    "E_99 = E_cent * 0.99\n",
    "x_half = 0\n",
    "x_99 = 0\n",
    "x_half_flag = False\n",
    "x_99_flag = False\n",
    "\n",
    "final_list = []\n",
    "\n",
    "for d in range():\n",
    "    for z in np.linspace(0.05,0.5,450):\n",
    "        for x_end in np.linspace(0,10,500):\n",
    "            E_end=E_xy_end(ledcord,nleds,Ir_0,z,d,x_end)\n",
    "            E_cent=E_xy_cent(ledcord,nleds,Ir_0,z,d)\n",
    "\n",
    "\n",
    "            if E_end < E_half and not x_half_flag:\n",
    "                x_half = x_end\n",
    "                x_half_flag = True\n",
    "\n",
    "            if E_end < E_99 and not x_99_flag:\n",
    "                x_99 = x_end\n",
    "                x_99_flag = True\n",
    "\n",
    "\n",
    "        final_list.append([x_end, x_99,x_half])\n",
    "print(final_list)"
   ]
  },
  {
   "cell_type": "code",
   "execution_count": 74,
   "metadata": {},
   "outputs": [],
   "source": [
    "df = pd.DataFrame(final_list)"
   ]
  },
  {
   "cell_type": "code",
   "execution_count": 75,
   "metadata": {},
   "outputs": [
    {
     "data": {
      "text/plain": [
       "0      5.000000\n",
       "1    274.370566\n",
       "2     35.167881\n",
       "3    239.202686\n",
       "Name: 0.5, dtype: float64"
      ]
     },
     "execution_count": 75,
     "metadata": {},
     "output_type": "execute_result"
    }
   ],
   "source": []
  },
  {
   "cell_type": "code",
   "execution_count": null,
   "metadata": {},
   "outputs": [],
   "source": []
  }
 ],
 "metadata": {
  "kernelspec": {
   "display_name": "Python 3",
   "language": "python",
   "name": "python3"
  },
  "language_info": {
   "codemirror_mode": {
    "name": "ipython",
    "version": 3
   },
   "file_extension": ".py",
   "mimetype": "text/x-python",
   "name": "python",
   "nbconvert_exporter": "python",
   "pygments_lexer": "ipython3",
   "version": "3.8.5"
  }
 },
 "nbformat": 4,
 "nbformat_minor": 4
}
