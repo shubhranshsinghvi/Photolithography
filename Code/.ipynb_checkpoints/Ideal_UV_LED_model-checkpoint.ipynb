{
 "cells": [
  {
   "cell_type": "markdown",
   "metadata": {},
   "source": [
    "## Import libraries "
   ]
  },
  {
   "cell_type": "code",
   "execution_count": 44,
   "metadata": {},
   "outputs": [],
   "source": [
    "from multiprocessing import Pool\n",
    "import math\n",
    "import numpy as np\n",
    "import pandas as pd\n",
    "import matplotlib.pyplot as plt\n",
    "from tqdm import tqdm"
   ]
  },
  {
   "cell_type": "markdown",
   "metadata": {},
   "source": [
    "## Define functions "
   ]
  },
  {
   "cell_type": "code",
   "execution_count": 45,
   "metadata": {},
   "outputs": [],
   "source": [
    "def arrangement_1(nleds,d):\n",
    "    l=math.sqrt(nleds);\n",
    "    ledcord=np.zeros((2,nleds));\n",
    "    temp=0;\n",
    "    for k in range(nleds):\n",
    "        ledcord[0,k]=-(l-1)*d/2 +((k)%l)*d;\n",
    "        if (k)%l ==0 and k != 0:\n",
    "            temp=temp+1;\n",
    "        ledcord[1,k]=-(l-1)*d/2 + temp*d;\n",
    "    return ledcord\n",
    "\n",
    "def arrangement_2(nleds,d):\n",
    "    l=math.sqrt(nleds);\n",
    "    ledcord=np.zeros((2,nleds));\n",
    "    temp=0;\n",
    "    for k in range(nleds):\n",
    "        if (k)%2 ==0:\n",
    "            ledcord[0,k]=-(l-1)*d/2 +((k)%l)*d;\n",
    "        elif (k)%2 ==1:\n",
    "            ledcord[0,k]=-(l-2)*d/2 +((k)%l)*d;\n",
    "        \n",
    "        if (k)%l ==0 and k != 0:\n",
    "            temp=temp+1;\n",
    "        \n",
    "        ledcord[1,k]=-(l-1)*d/2 + temp*d;\n",
    "    return ledcord\n",
    "\n",
    "def E_r(ledcord,nleds,Ir_0,z,d,r):    \n",
    "    x=r;\n",
    "    y=0;\n",
    "    E=0;\n",
    "    for i in range(nleds):\n",
    "        den=np.square(np.square(x-ledcord[0,i]) +np.square(y-ledcord[1,i]) +z**2);\n",
    "        E= E + (z**2 * Ir_0)*(np.reciprocal(den))\n",
    "    return E\n",
    "  "
   ]
  },
  {
   "cell_type": "markdown",
   "metadata": {},
   "source": [
    "# Arrangement 1 "
   ]
  },
  {
   "cell_type": "markdown",
   "metadata": {},
   "source": [
    "## Percent_Uniformity vs d and z "
   ]
  },
  {
   "cell_type": "code",
   "execution_count": null,
   "metadata": {},
   "outputs": [
    {
     "name": "stderr",
     "output_type": "stream",
     "text": [
      "  8%|▊         | 16/191 [05:27<1:16:27, 26.21s/it]"
     ]
    }
   ],
   "source": [
    "Ir_0 = 0.1\n",
    "final_list = []\n",
    "\n",
    "def ratio(d):\n",
    "    final_list = []\n",
    "    Ir_0=0.1\n",
    "    for nleds in [9,25,49,81,121]:\n",
    "        lled=np.sqrt(nleds)\n",
    "        if((lled-1)*d>0.3):\n",
    "            break\n",
    "        else:     \n",
    "            ledcord = arrangement_1(nleds,d)\n",
    "            nz = round((0.5 - d)/0.001) + 1\n",
    "            for z in np.linspace(d,0.5,nz):\n",
    "                min_E=1000000;\n",
    "                max_E=0;\n",
    "                ni = round((0.04)/0.001) + 1\n",
    "                for i in np.linspace(0,0.04,ni):\n",
    "                    E_i = E_r(ledcord,nleds,Ir_0,z,d,i)\n",
    "                    min_E = min(min_E,E_i)\n",
    "                    max_E = max(max_E,E_i)\n",
    "                percent_uniformity=(min_E/max_E)*100\n",
    "                \n",
    "                t = 4000/(max_E + min_E)\n",
    "                energy_max = max_E * t\n",
    "                energy_min = min_E * t\n",
    "                \n",
    "                final_list.append([nleds,d,z,min_E,max_E,t,energy_min/10,energy_max/10,percent_uniformity])\n",
    "    return final_list\n",
    "\n",
    "with Pool(7) as p:\n",
    "    l = list(tqdm(p.imap(ratio,np.linspace(0.01,0.2,191)), total=191))"
   ]
  },
  {
   "cell_type": "code",
   "execution_count": null,
   "metadata": {},
   "outputs": [],
   "source": [
    "t=[]\n",
    "for i in l:\n",
    "    t.extend(i)\n",
    "#     print(len(i))\n",
    "final_list=t"
   ]
  },
  {
   "cell_type": "code",
   "execution_count": null,
   "metadata": {},
   "outputs": [],
   "source": [
    "df_1 = pd.DataFrame(final_list,columns=[\"nleds\",\"d(m)\",\"z(m)\",\"min_E(W/m^2)\",\"max_E(W/m^2)\",\"exposure_time(s)\",\"energy_min(mJ/cm^2)\",\"energy_max(mJ^cm^2)\",\"percent_uniformity\"])\n",
    "#pd.set_option(\"display.max_rows\", None, \"display.max_columns\", None)\n",
    "#df.pivot_table(index = ['d(m)','nleds'], aggfunc ='size') "
   ]
  },
  {
   "cell_type": "markdown",
   "metadata": {},
   "source": [
    "## Maximum_percent_uniformity "
   ]
  },
  {
   "cell_type": "code",
   "execution_count": null,
   "metadata": {},
   "outputs": [],
   "source": [
    "idx = df_1.groupby(['nleds'])['percent_uniformity'].transform(max) == df_1['percent_uniformity']\n",
    "df_1[idx].sort_values(\"nleds\")"
   ]
  },
  {
   "cell_type": "markdown",
   "metadata": {},
   "source": [
    "## Minimum_exposure_time"
   ]
  },
  {
   "cell_type": "code",
   "execution_count": null,
   "metadata": {},
   "outputs": [],
   "source": [
    "ef_1=df_1[df_1['percent_uniformity']>99]\n",
    "idx = ef_1.groupby(['nleds'])['exposure_time(s)'].transform(max) == ef_1['exposure_time(s)']\n",
    "ef_1[idx].sort_values(\"nleds\")"
   ]
  },
  {
   "cell_type": "markdown",
   "metadata": {},
   "source": [
    "# Arrangement 2"
   ]
  },
  {
   "cell_type": "code",
   "execution_count": null,
   "metadata": {},
   "outputs": [],
   "source": [
    "Ir_0 = 0.1\n",
    "final_list = []\n",
    "\n",
    "def ratio(d):\n",
    "    final_list = []\n",
    "    Ir_0=0.1\n",
    "    for nleds in [9,25,49,81,121]:\n",
    "        lled=np.sqrt(nleds)\n",
    "        if((lled-1)*d>0.3):\n",
    "            break\n",
    "        else:     \n",
    "            ledcord = arrangement_2(nleds,d)\n",
    "            nz = round((0.5 - d)/0.001) + 1\n",
    "            for z in np.linspace(d,0.5,nz):\n",
    "                min_E=1000000;\n",
    "                max_E=0;\n",
    "                ni = round((0.04)/0.001) + 1\n",
    "                for i in np.linspace(0,0.04,ni):\n",
    "                    E_i = E_r(ledcord,nleds,Ir_0,z,d,i)\n",
    "                    min_E = min(min_E,E_i)\n",
    "                    max_E = max(max_E,E_i)\n",
    "                percent_uniformity=(min_E/max_E)*100\n",
    "                \n",
    "                t = 4000/(max_E + min_E)\n",
    "                energy_max = max_E * t\n",
    "                energy_min = min_E * t\n",
    "                \n",
    "                final_list.append([nleds,d,z,min_E,max_E,t,energy_min/10,energy_max/10,percent_uniformity])\n",
    "    return final_list\n",
    "\n",
    "with Pool(7) as p:\n",
    "    l = list(tqdm(p.imap(ratio,np.linspace(0.01,0.2,191)), total=191))"
   ]
  },
  {
   "cell_type": "code",
   "execution_count": null,
   "metadata": {},
   "outputs": [],
   "source": [
    "t=[]\n",
    "for i in l:\n",
    "    t.extend(i)\n",
    "#     print(len(i))\n",
    "final_list=t"
   ]
  },
  {
   "cell_type": "code",
   "execution_count": null,
   "metadata": {},
   "outputs": [],
   "source": [
    "df_2 = pd.DataFrame(final_list,columns=[\"nleds\",\"d(m)\",\"z(m)\",\"min_E(W/m^2)\",\"max_E(W/m^2)\",\"exposure_time(s)\",\"energy_min(mJ/cm^2)\",\"energy_max(mJ^cm^2)\",\"percent_uniformity\"])\n",
    "#pd.set_option(\"display.max_rows\", None, \"display.max_columns\", None)\n",
    "#df.pivot_table(index = ['d(m)','nleds'], aggfunc ='size') "
   ]
  },
  {
   "cell_type": "markdown",
   "metadata": {},
   "source": [
    "## Maximum_percent_uniformity"
   ]
  },
  {
   "cell_type": "code",
   "execution_count": null,
   "metadata": {},
   "outputs": [],
   "source": [
    "idx = df.groupby(['nleds'])['percent_uniformity'].transform(max) == df['percent_uniformity']\n",
    "df[idx].sort_values(\"nleds\")"
   ]
  },
  {
   "cell_type": "markdown",
   "metadata": {},
   "source": [
    "## Minimum_exposure_time"
   ]
  },
  {
   "cell_type": "code",
   "execution_count": null,
   "metadata": {},
   "outputs": [],
   "source": [
    "ef_2=df_2[df_2['correct_per_uni']>99]\n",
    "idx = ef_2.groupby(['nleds'])['exposure_time(s)'].transform(min) == ef_2['exposure_time(s)']\n",
    "ef_2[idx].sort_values(\"nleds\")"
   ]
  },
  {
   "cell_type": "code",
   "execution_count": null,
   "metadata": {},
   "outputs": [],
   "source": []
  }
 ],
 "metadata": {
  "kernelspec": {
   "display_name": "Python 3",
   "language": "python",
   "name": "python3"
  },
  "language_info": {
   "codemirror_mode": {
    "name": "ipython",
    "version": 3
   },
   "file_extension": ".py",
   "mimetype": "text/x-python",
   "name": "python",
   "nbconvert_exporter": "python",
   "pygments_lexer": "ipython3",
   "version": "3.8.5"
  }
 },
 "nbformat": 4,
 "nbformat_minor": 4
}
