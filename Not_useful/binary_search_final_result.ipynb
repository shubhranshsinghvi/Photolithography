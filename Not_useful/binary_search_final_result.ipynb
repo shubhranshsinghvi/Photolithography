{
 "cells": [
  {
   "cell_type": "code",
   "execution_count": 228,
   "metadata": {},
   "outputs": [],
   "source": [
    "from multiprocessing import Pool\n",
    "import math\n",
    "import numpy as np\n",
    "import pandas as pd\n",
    "import matplotlib.pyplot as plt\n",
    "from tqdm import tqdm"
   ]
  },
  {
   "cell_type": "code",
   "execution_count": 229,
   "metadata": {},
   "outputs": [],
   "source": [
    "def arrangement_1(nleds,d):\n",
    "    l=math.sqrt(nleds);\n",
    "    ledcord=np.zeros((2,nleds));\n",
    "    temp=0;\n",
    "    for k in range(nleds):\n",
    "        ledcord[0,k]=-(l-1)*d/2 +((k)%l)*d;\n",
    "        if (k)%l ==0 and k != 0:\n",
    "            temp=temp+1;\n",
    "        ledcord[1,k]=-(l-1)*d/2 + temp*d;\n",
    "    return ledcord\n",
    "    \n",
    "def E_r(ledcord,nleds,Ir_0,z,d,r):    \n",
    "    x=r;\n",
    "    y=0;\n",
    "    E=0;\n",
    "    for i in range(nleds):\n",
    "        den=np.square(np.square(x-ledcord[0,i]) +np.square(y-ledcord[1,i]) +z**2);\n",
    "        E= E + (z**2 * Ir_0)*(np.reciprocal(den))\n",
    "    return E\n",
    "\n",
    "def bin_search(ledcord,nleds,Ir_0,z,d,r_arr, r_lo, r_up, E_req):\n",
    "    r_mid=(r_up+r_lo)//2 \n",
    "    if E_r(ledcord,nleds,Ir_0,z,d,r_arr[r_mid-1])> E_req and E_r(ledcord,nleds,Ir_0,z,d,r_arr[r_mid])<= E_req:\n",
    "        return r_arr[r_mid]\n",
    "    \n",
    "    elif E_r(ledcord,nleds,Ir_0,z,d,r_arr[r_mid])> E_req and E_r(ledcord,nleds,Ir_0,z,d,r_arr[r_mid-1])> E_req:\n",
    "        return bin_search(ledcord,nleds,Ir_0,z,d,r_arr,r_mid,r_up,E_req)\n",
    "    \n",
    "    else:\n",
    "        return bin_search(ledcord,nleds,Ir_0,z,d,r_arr, r_lo, r_mid, E_req)\n",
    "  "
   ]
  },
  {
   "cell_type": "code",
   "execution_count": 230,
   "metadata": {},
   "outputs": [
    {
     "name": "stderr",
     "output_type": "stream",
     "text": [
      "100%|██████████| 181/181 [42:20<00:00, 14.04s/it]  \n"
     ]
    }
   ],
   "source": [
    "Ir_0 = 1;\n",
    "final_list = []\n",
    "r_arr = np.linspace(0,5,50001)\n",
    "r_up=len(r_arr)-1\n",
    "r_lo=0\n",
    "def ratio(d):\n",
    "    final_list = []\n",
    "    for nleds in [9,25,49,81,121,169]:\n",
    "        lled=np.sqrt(nleds)\n",
    "        if((lled-1)*d>0.5):\n",
    "            break\n",
    "        else:     \n",
    "            ledcord = arrangement_1(nleds,d)\n",
    "            nz = (0.5 - d)/0.001 +1\n",
    "            for z in np.linspace(d,0.5,nz):\n",
    "                E_cent = E_r(ledcord,nleds,Ir_0,z,d,0)\n",
    "                E_half = E_cent/2\n",
    "                E_99 = E_cent * 0.99\n",
    "                r_99 = bin_search(ledcord,nleds,Ir_0,z,d,r_arr, r_lo, r_up, E_99)\n",
    "                r_half = bin_search(ledcord,nleds,Ir_0,z,d,r_arr, r_lo, r_up, E_half)\n",
    "                final_list.append([nleds,d,z,E_cent,E_99, r_99,E_half,r_half])\n",
    "    return final_list\n",
    "\n",
    "with Pool(7) as p:\n",
    "      l = list(tqdm(p.imap(ratio,np.linspace(0.01,0.2,181)), total=181))"
   ]
  },
  {
   "cell_type": "code",
   "execution_count": 231,
   "metadata": {},
   "outputs": [],
   "source": [
    "t=[]\n",
    "for i in l:\n",
    "    t.extend(i)\n",
    "#     print(len(i))\n",
    "final_list=t"
   ]
  },
  {
   "cell_type": "code",
   "execution_count": 232,
   "metadata": {},
   "outputs": [],
   "source": [
    "df = pd.DataFrame(final_list,columns=[\"nleds\",\"d\",\"z\",\"E_cent\",\"E_99\",\"r_99\",\"E_half\",\"r_half\"])"
   ]
  },
  {
   "cell_type": "code",
   "execution_count": 233,
   "metadata": {},
   "outputs": [],
   "source": [
    "df[\"ratio\"]=df[\"r_99\"]/df[\"r_half\"]"
   ]
  },
  {
   "cell_type": "code",
   "execution_count": 234,
   "metadata": {},
   "outputs": [
    {
     "data": {
      "text/plain": [
       "206467"
      ]
     },
     "execution_count": 234,
     "metadata": {},
     "output_type": "execute_result"
    }
   ],
   "source": [
    "len(df[\"E_99\"].unique())"
   ]
  },
  {
   "cell_type": "code",
   "execution_count": 235,
   "metadata": {},
   "outputs": [],
   "source": [
    "pd.set_option(\"display.max_rows\", None, \"display.max_columns\", None)\n",
    "# df"
   ]
  },
  {
   "cell_type": "code",
   "execution_count": 236,
   "metadata": {},
   "outputs": [
    {
     "data": {
      "text/plain": [
       "[<matplotlib.lines.Line2D at 0x7ff0f007a370>]"
      ]
     },
     "execution_count": 236,
     "metadata": {},
     "output_type": "execute_result"
    },
    {
     "data": {
      "image/png": "[encoded data removed]",
      "text/plain": [
       "<Figure size 432x288 with 1 Axes>"
      ]
     },
     "metadata": {
      "needs_background": "light"
     },
     "output_type": "display_data"
    }
   ],
   "source": [
    "plt.plot(df[\"ratio\"])"
   ]
  },
  {
   "cell_type": "code",
   "execution_count": 237,
   "metadata": {},
   "outputs": [
    {
     "data": {
      "text/plain": [
       "110990"
      ]
     },
     "execution_count": 237,
     "metadata": {},
     "output_type": "execute_result"
    }
   ],
   "source": [
    "len(df[\"ratio\"].unique())"
   ]
  },
  {
   "cell_type": "code",
   "execution_count": 241,
   "metadata": {},
   "outputs": [
    {
     "data": {
      "text/html": [
       "<div>\n",
       "<style scoped>\n",
       "    .dataframe tbody tr th:only-of-type {\n",
       "        vertical-align: middle;\n",
       "    }\n",
       "\n",
       "    .dataframe tbody tr th {\n",
       "        vertical-align: top;\n",
       "    }\n",
       "\n",
       "    .dataframe thead th {\n",
       "        text-align: right;\n",
       "    }\n",
       "</style>\n",
       "<table border=\"1\" class=\"dataframe\">\n",
       "  <thead>\n",
       "    <tr style=\"text-align: right;\">\n",
       "      <th></th>\n",
       "      <th>nleds</th>\n",
       "      <th>d</th>\n",
       "      <th>z</th>\n",
       "      <th>E_cent</th>\n",
       "      <th>E_99</th>\n",
       "      <th>r_99</th>\n",
       "      <th>E_half</th>\n",
       "      <th>r_half</th>\n",
       "      <th>ratio</th>\n",
       "    </tr>\n",
       "  </thead>\n",
       "  <tbody>\n",
       "    <tr>\n",
       "      <th>5886</th>\n",
       "      <td>9</td>\n",
       "      <td>0.012111</td>\n",
       "      <td>0.018122</td>\n",
       "      <td>12263.004503</td>\n",
       "      <td>12140.374458</td>\n",
       "      <td>0.0029</td>\n",
       "      <td>6131.502252</td>\n",
       "      <td>0.0205</td>\n",
       "      <td>0.141463</td>\n",
       "    </tr>\n",
       "    <tr>\n",
       "      <th>6375</th>\n",
       "      <td>25</td>\n",
       "      <td>0.012111</td>\n",
       "      <td>0.019124</td>\n",
       "      <td>16325.797645</td>\n",
       "      <td>16162.539669</td>\n",
       "      <td>0.0054</td>\n",
       "      <td>8162.898822</td>\n",
       "      <td>0.0317</td>\n",
       "      <td>0.170347</td>\n",
       "    </tr>\n",
       "    <tr>\n",
       "      <th>982</th>\n",
       "      <td>49</td>\n",
       "      <td>0.010000</td>\n",
       "      <td>0.010000</td>\n",
       "      <td>30340.617441</td>\n",
       "      <td>30037.211267</td>\n",
       "      <td>0.0106</td>\n",
       "      <td>15170.308721</td>\n",
       "      <td>0.0350</td>\n",
       "      <td>0.302857</td>\n",
       "    </tr>\n",
       "    <tr>\n",
       "      <th>10273</th>\n",
       "      <td>81</td>\n",
       "      <td>0.013167</td>\n",
       "      <td>0.017174</td>\n",
       "      <td>17050.142384</td>\n",
       "      <td>16879.640960</td>\n",
       "      <td>0.0162</td>\n",
       "      <td>8525.071192</td>\n",
       "      <td>0.0595</td>\n",
       "      <td>0.272269</td>\n",
       "    </tr>\n",
       "    <tr>\n",
       "      <th>1964</th>\n",
       "      <td>121</td>\n",
       "      <td>0.010000</td>\n",
       "      <td>0.010000</td>\n",
       "      <td>31446.255515</td>\n",
       "      <td>31131.792960</td>\n",
       "      <td>0.0210</td>\n",
       "      <td>15723.127758</td>\n",
       "      <td>0.0549</td>\n",
       "      <td>0.382514</td>\n",
       "    </tr>\n",
       "    <tr>\n",
       "      <th>11243</th>\n",
       "      <td>169</td>\n",
       "      <td>0.013167</td>\n",
       "      <td>0.013167</td>\n",
       "      <td>18269.997766</td>\n",
       "      <td>18087.297789</td>\n",
       "      <td>0.0400</td>\n",
       "      <td>9134.998883</td>\n",
       "      <td>0.0854</td>\n",
       "      <td>0.468384</td>\n",
       "    </tr>\n",
       "  </tbody>\n",
       "</table>\n",
       "</div>"
      ],
      "text/plain": [
       "       nleds         d         z        E_cent          E_99    r_99  \\\n",
       "5886       9  0.012111  0.018122  12263.004503  12140.374458  0.0029   \n",
       "6375      25  0.012111  0.019124  16325.797645  16162.539669  0.0054   \n",
       "982       49  0.010000  0.010000  30340.617441  30037.211267  0.0106   \n",
       "10273     81  0.013167  0.017174  17050.142384  16879.640960  0.0162   \n",
       "1964     121  0.010000  0.010000  31446.255515  31131.792960  0.0210   \n",
       "11243    169  0.013167  0.013167  18269.997766  18087.297789  0.0400   \n",
       "\n",
       "             E_half  r_half     ratio  \n",
       "5886    6131.502252  0.0205  0.141463  \n",
       "6375    8162.898822  0.0317  0.170347  \n",
       "982    15170.308721  0.0350  0.302857  \n",
       "10273   8525.071192  0.0595  0.272269  \n",
       "1964   15723.127758  0.0549  0.382514  \n",
       "11243   9134.998883  0.0854  0.468384  "
      ]
     },
     "execution_count": 241,
     "metadata": {},
     "output_type": "execute_result"
    }
   ],
   "source": [
    "idx = df.groupby(['nleds'])['ratio'].transform(max) == df['ratio']\n",
    "df[idx][df[idx][\"nleds\"] != 1].sort_values(\"nleds\")"
   ]
  },
  {
   "cell_type": "code",
   "execution_count": null,
   "metadata": {},
   "outputs": [],
   "source": []
  }
 ],
 "metadata": {
  "kernelspec": {
   "display_name": "Python 3",
   "language": "python",
   "name": "python3"
  },
  "language_info": {
   "codemirror_mode": {
    "name": "ipython",
    "version": 3
   },
   "file_extension": ".py",
   "mimetype": "text/x-python",
   "name": "python",
   "nbconvert_exporter": "python",
   "pygments_lexer": "ipython3",
   "version": "3.8.5"
  }
 },
 "nbformat": 4,
 "nbformat_minor": 4
}
