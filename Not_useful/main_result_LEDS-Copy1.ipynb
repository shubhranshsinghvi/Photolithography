{
 "cells": [
  {
   "cell_type": "code",
   "execution_count": 1,
   "metadata": {},
   "outputs": [],
   "source": [
    "from multiprocessing import Pool\n",
    "import math\n",
    "import numpy as np\n",
    "import pandas as pd\n",
    "import matplotlib.pyplot as plt\n",
    "from tqdm import tqdm"
   ]
  },
  {
   "cell_type": "code",
   "execution_count": 37,
   "metadata": {},
   "outputs": [],
   "source": [
    "def arrangement_1(nleds,d):\n",
    "\n",
    "    l=math.sqrt(nleds);\n",
    "\n",
    "    ledcord=np.zeros((2,nleds));\n",
    "\n",
    "    temp=0;\n",
    "    for k in range(nleds):\n",
    "        ledcord[0,k]=-(l-1)*d/2 +((k)%l)*d;\n",
    "        if (k)%l ==0 and k != 0:\n",
    "            temp=temp+1;\n",
    "        ledcord[1,k]=-(l-1)*d/2 + temp*d;\n",
    "\n",
    "    return ledcord\n",
    "\n",
    "def E_xy_cent(ledcord,nleds,Ir_0,z,d):\n",
    "    \n",
    "    x=0;\n",
    "    y=0;\n",
    "    E=0;\n",
    "    for i in range(nleds):\n",
    "        den=np.square(np.square(x-ledcord[0,i]) +np.square(y-ledcord[1,i]) +z**2);\n",
    "        E= E + (z**2 * Ir_0)*(np.reciprocal(den));\n",
    "\n",
    "    return E;\n",
    "    \n",
    "def E_xy_end(ledcord,nleds,Ir_0,z,d,x_end):\n",
    "    \n",
    "    x=x_end;\n",
    "    y=0;\n",
    "    E=0;\n",
    "    for i in range(nleds):\n",
    "        den=np.square(np.square(x-ledcord[0,i]) +np.square(y-ledcord[1,i]) +z**2);\n",
    "        E= E + (z**2 * Ir_0)*(np.reciprocal(den));\n",
    "\n",
    "    return E;\n",
    "\n",
    "def plot_E_xy_full(ledcord,nleds,Ir_0,z,d):\n",
    "    l=math.sqrt(nleds)\n",
    "    x = np.arange(-10, 10, 0.01)\n",
    "    y = np.arange(-10, 10, 0.01)\n",
    "\n",
    "    x,y=np.meshgrid(x, y, sparse=False, indexing='ij')\n",
    "\n",
    "    E=np.zeros(np.size(x));\n",
    "\n",
    "    for i in range(nleds):\n",
    "        den=np.square(np.square(x-ledcord[0,i]) +np.square(y-ledcord[1,i]) +z**2);\n",
    "        E= E + (z**2 * Ir_0)*(np.reciprocal(den));\n",
    "        \n",
    "    return E;\n",
    "\n"
   ]
  },
  {
   "cell_type": "code",
   "execution_count": 38,
   "metadata": {},
   "outputs": [
    {
     "name": "stderr",
     "output_type": "stream",
     "text": [
      "  0%|          | 0/9 [00:17<?, ?it/s]Process ForkPoolWorker-21:\n",
      "Process ForkPoolWorker-16:\n",
      "\n"
     ]
    },
    {
     "ename": "KeyboardInterrupt",
     "evalue": "",
     "output_type": "error",
     "traceback": [
      "\u001b[0;31m---------------------------------------------------------------------------\u001b[0m",
      "\u001b[0;31mIndexError\u001b[0m                                Traceback (most recent call last)",
      "\u001b[0;32m/usr/lib/python3.8/multiprocessing/pool.py\u001b[0m in \u001b[0;36mnext\u001b[0;34m(self, timeout)\u001b[0m\n\u001b[1;32m    850\u001b[0m             \u001b[0;32mtry\u001b[0m\u001b[0;34m:\u001b[0m\u001b[0;34m\u001b[0m\u001b[0;34m\u001b[0m\u001b[0m\n\u001b[0;32m--> 851\u001b[0;31m                 \u001b[0mitem\u001b[0m \u001b[0;34m=\u001b[0m \u001b[0mself\u001b[0m\u001b[0;34m.\u001b[0m\u001b[0m_items\u001b[0m\u001b[0;34m.\u001b[0m\u001b[0mpopleft\u001b[0m\u001b[0;34m(\u001b[0m\u001b[0;34m)\u001b[0m\u001b[0;34m\u001b[0m\u001b[0;34m\u001b[0m\u001b[0m\n\u001b[0m\u001b[1;32m    852\u001b[0m             \u001b[0;32mexcept\u001b[0m \u001b[0mIndexError\u001b[0m\u001b[0;34m:\u001b[0m\u001b[0;34m\u001b[0m\u001b[0;34m\u001b[0m\u001b[0m\n",
      "\u001b[0;31mIndexError\u001b[0m: pop from an empty deque",
      "\nDuring handling of the above exception, another exception occurred:\n",
      "\u001b[0;31mKeyboardInterrupt\u001b[0m                         Traceback (most recent call last)",
      "\u001b[0;32m<ipython-input-38-bebbcc4af962>\u001b[0m in \u001b[0;36m<module>\u001b[0;34m\u001b[0m\n\u001b[1;32m     30\u001b[0m     \u001b[0;32mreturn\u001b[0m \u001b[0mfinal_list\u001b[0m\u001b[0;34m\u001b[0m\u001b[0;34m\u001b[0m\u001b[0m\n\u001b[1;32m     31\u001b[0m \u001b[0;32mwith\u001b[0m \u001b[0mPool\u001b[0m\u001b[0;34m(\u001b[0m\u001b[0;36m7\u001b[0m\u001b[0;34m)\u001b[0m \u001b[0;32mas\u001b[0m \u001b[0mp\u001b[0m\u001b[0;34m:\u001b[0m\u001b[0;34m\u001b[0m\u001b[0;34m\u001b[0m\u001b[0m\n\u001b[0;32m---> 32\u001b[0;31m       \u001b[0ml\u001b[0m \u001b[0;34m=\u001b[0m \u001b[0mlist\u001b[0m\u001b[0;34m(\u001b[0m\u001b[0mtqdm\u001b[0m\u001b[0;34m(\u001b[0m\u001b[0mp\u001b[0m\u001b[0;34m.\u001b[0m\u001b[0mimap\u001b[0m\u001b[0;34m(\u001b[0m\u001b[0mratio\u001b[0m\u001b[0;34m,\u001b[0m\u001b[0mnp\u001b[0m\u001b[0;34m.\u001b[0m\u001b[0mlinspace\u001b[0m\u001b[0;34m(\u001b[0m\u001b[0;36m0.01\u001b[0m\u001b[0;34m,\u001b[0m\u001b[0;36m0.2\u001b[0m\u001b[0;34m,\u001b[0m\u001b[0;36m9\u001b[0m\u001b[0;34m)\u001b[0m\u001b[0;34m)\u001b[0m\u001b[0;34m,\u001b[0m \u001b[0mtotal\u001b[0m\u001b[0;34m=\u001b[0m\u001b[0;36m9\u001b[0m\u001b[0;34m)\u001b[0m\u001b[0;34m)\u001b[0m\u001b[0;34m\u001b[0m\u001b[0;34m\u001b[0m\u001b[0m\n\u001b[0m",
      "\u001b[0;32m~/.local/lib/python3.8/site-packages/tqdm/std.py\u001b[0m in \u001b[0;36m__iter__\u001b[0;34m(self)\u001b[0m\n\u001b[1;32m   1165\u001b[0m \u001b[0;34m\u001b[0m\u001b[0m\n\u001b[1;32m   1166\u001b[0m         \u001b[0;32mtry\u001b[0m\u001b[0;34m:\u001b[0m\u001b[0;34m\u001b[0m\u001b[0;34m\u001b[0m\u001b[0m\n\u001b[0;32m-> 1167\u001b[0;31m             \u001b[0;32mfor\u001b[0m \u001b[0mobj\u001b[0m \u001b[0;32min\u001b[0m \u001b[0miterable\u001b[0m\u001b[0;34m:\u001b[0m\u001b[0;34m\u001b[0m\u001b[0;34m\u001b[0m\u001b[0m\n\u001b[0m\u001b[1;32m   1168\u001b[0m                 \u001b[0;32myield\u001b[0m \u001b[0mobj\u001b[0m\u001b[0;34m\u001b[0m\u001b[0;34m\u001b[0m\u001b[0m\n\u001b[1;32m   1169\u001b[0m                 \u001b[0;31m# Update and possibly print the progressbar.\u001b[0m\u001b[0;34m\u001b[0m\u001b[0;34m\u001b[0m\u001b[0;34m\u001b[0m\u001b[0m\n",
      "\u001b[0;32m/usr/lib/python3.8/multiprocessing/pool.py\u001b[0m in \u001b[0;36mnext\u001b[0;34m(self, timeout)\u001b[0m\n\u001b[1;32m    854\u001b[0m                     \u001b[0mself\u001b[0m\u001b[0;34m.\u001b[0m\u001b[0m_pool\u001b[0m \u001b[0;34m=\u001b[0m \u001b[0;32mNone\u001b[0m\u001b[0;34m\u001b[0m\u001b[0;34m\u001b[0m\u001b[0m\n\u001b[1;32m    855\u001b[0m                     \u001b[0;32mraise\u001b[0m \u001b[0mStopIteration\u001b[0m \u001b[0;32mfrom\u001b[0m \u001b[0;32mNone\u001b[0m\u001b[0;34m\u001b[0m\u001b[0;34m\u001b[0m\u001b[0m\n\u001b[0;32m--> 856\u001b[0;31m                 \u001b[0mself\u001b[0m\u001b[0;34m.\u001b[0m\u001b[0m_cond\u001b[0m\u001b[0;34m.\u001b[0m\u001b[0mwait\u001b[0m\u001b[0;34m(\u001b[0m\u001b[0mtimeout\u001b[0m\u001b[0;34m)\u001b[0m\u001b[0;34m\u001b[0m\u001b[0;34m\u001b[0m\u001b[0m\n\u001b[0m\u001b[1;32m    857\u001b[0m                 \u001b[0;32mtry\u001b[0m\u001b[0;34m:\u001b[0m\u001b[0;34m\u001b[0m\u001b[0;34m\u001b[0m\u001b[0m\n\u001b[1;32m    858\u001b[0m                     \u001b[0mitem\u001b[0m \u001b[0;34m=\u001b[0m \u001b[0mself\u001b[0m\u001b[0;34m.\u001b[0m\u001b[0m_items\u001b[0m\u001b[0;34m.\u001b[0m\u001b[0mpopleft\u001b[0m\u001b[0;34m(\u001b[0m\u001b[0;34m)\u001b[0m\u001b[0;34m\u001b[0m\u001b[0;34m\u001b[0m\u001b[0m\n",
      "\u001b[0;32m/usr/lib/python3.8/threading.py\u001b[0m in \u001b[0;36mwait\u001b[0;34m(self, timeout)\u001b[0m\n\u001b[1;32m    300\u001b[0m         \u001b[0;32mtry\u001b[0m\u001b[0;34m:\u001b[0m    \u001b[0;31m# restore state no matter what (e.g., KeyboardInterrupt)\u001b[0m\u001b[0;34m\u001b[0m\u001b[0;34m\u001b[0m\u001b[0m\n\u001b[1;32m    301\u001b[0m             \u001b[0;32mif\u001b[0m \u001b[0mtimeout\u001b[0m \u001b[0;32mis\u001b[0m \u001b[0;32mNone\u001b[0m\u001b[0;34m:\u001b[0m\u001b[0;34m\u001b[0m\u001b[0;34m\u001b[0m\u001b[0m\n\u001b[0;32m--> 302\u001b[0;31m                 \u001b[0mwaiter\u001b[0m\u001b[0;34m.\u001b[0m\u001b[0macquire\u001b[0m\u001b[0;34m(\u001b[0m\u001b[0;34m)\u001b[0m\u001b[0;34m\u001b[0m\u001b[0;34m\u001b[0m\u001b[0m\n\u001b[0m\u001b[1;32m    303\u001b[0m                 \u001b[0mgotit\u001b[0m \u001b[0;34m=\u001b[0m \u001b[0;32mTrue\u001b[0m\u001b[0;34m\u001b[0m\u001b[0;34m\u001b[0m\u001b[0m\n\u001b[1;32m    304\u001b[0m             \u001b[0;32melse\u001b[0m\u001b[0;34m:\u001b[0m\u001b[0;34m\u001b[0m\u001b[0;34m\u001b[0m\u001b[0m\n",
      "\u001b[0;31mKeyboardInterrupt\u001b[0m: "
     ]
    }
   ],
   "source": [
    "Ir_0 = 1;\n",
    "final_list = []\n",
    "def ratio(d):\n",
    "    final_list = []\n",
    "    for nleds in [9,25,49,81,121,169]:\n",
    "        lled=np.sqrt(nleds)\n",
    "        if((lled-1)*d>0.5):\n",
    "            break\n",
    "        else:     \n",
    "            ledcord = arrangement_1(nleds,d)\n",
    "            nz = (0.5 - d)/0.01 +1\n",
    "            for z in np.linspace(d,0.5,nz):\n",
    "                E_cent = E_xy_cent(ledcord,nleds,Ir_0,z,d)\n",
    "                E_half = E_cent/2\n",
    "                E_99 = E_cent * 0.99\n",
    "                x_half = 0\n",
    "                x_99 = 0\n",
    "                x_half_flag = False\n",
    "                x_99_flag = False\n",
    "\n",
    "                for x_end in np.linspace(0,5,5001):\n",
    "                    E_end=E_xy_end(ledcord,nleds,Ir_0,z,d,x_end)\n",
    "                    if E_end < E_half and not x_half_flag:\n",
    "                        x_half = x_end\n",
    "                        x_half_flag = True\n",
    "                    if E_end < E_99 and not x_99_flag:\n",
    "                        x_99 = x_end\n",
    "                        x_99_flag = True\n",
    "                final_list.append([nleds,d,z,E_cent,E_99, x_99,E_half,x_half])\n",
    "    return final_list\n",
    "with Pool(7) as p:\n",
    "      l = list(tqdm(p.imap(ratio,np.linspace(0.01,0.2,20)), total=20))\n"
   ]
  },
  {
   "cell_type": "code",
   "execution_count": 27,
   "metadata": {},
   "outputs": [
    {
     "name": "stdout",
     "output_type": "stream",
     "text": [
      "54\n",
      "54\n",
      "36\n",
      "27\n",
      "18\n",
      "9\n",
      "9\n",
      "9\n",
      "9\n"
     ]
    }
   ],
   "source": [
    "t=[]\n",
    "for i in l:\n",
    "    t.extend(i)\n",
    "    print(len(i))\n",
    "final_list=t\n"
   ]
  },
  {
   "cell_type": "code",
   "execution_count": 28,
   "metadata": {},
   "outputs": [],
   "source": [
    "df = pd.DataFrame(final_list,columns=[\"nleds\",\"d\",\"z\",\"E_cent\",\"E_99\",\"x_99\",\"E_half\",\"x_half\"])\n",
    "df = df.drop_duplicates()"
   ]
  },
  {
   "cell_type": "code",
   "execution_count": 29,
   "metadata": {},
   "outputs": [],
   "source": [
    "df[\"ratio\"]=df[\"x_99\"]/df[\"x_half\"]"
   ]
  },
  {
   "cell_type": "code",
   "execution_count": 30,
   "metadata": {},
   "outputs": [
    {
     "data": {
      "text/plain": [
       "225"
      ]
     },
     "execution_count": 30,
     "metadata": {},
     "output_type": "execute_result"
    }
   ],
   "source": [
    "len(df[\"E_half\"].unique())"
   ]
  },
  {
   "cell_type": "code",
   "execution_count": null,
   "metadata": {},
   "outputs": [],
   "source": []
  },
  {
   "cell_type": "code",
   "execution_count": null,
   "metadata": {},
   "outputs": [],
   "source": []
  },
  {
   "cell_type": "code",
   "execution_count": 31,
   "metadata": {},
   "outputs": [],
   "source": [
    "pd.set_option(\"display.max_rows\", None, \"display.max_columns\", None)\n",
    "# df"
   ]
  },
  {
   "cell_type": "code",
   "execution_count": 32,
   "metadata": {},
   "outputs": [
    {
     "data": {
      "text/plain": [
       "[<matplotlib.lines.Line2D at 0x7f37792ce040>]"
      ]
     },
     "execution_count": 32,
     "metadata": {},
     "output_type": "execute_result"
    },
    {
     "data": {
      "image/png": "[encoded data removed]",
      "text/plain": [
       "<Figure size 432x288 with 1 Axes>"
      ]
     },
     "metadata": {
      "needs_background": "light"
     },
     "output_type": "display_data"
    }
   ],
   "source": [
    "plt.plot(df[\"ratio\"])"
   ]
  },
  {
   "cell_type": "code",
   "execution_count": 33,
   "metadata": {},
   "outputs": [
    {
     "data": {
      "text/plain": [
       "189"
      ]
     },
     "execution_count": 33,
     "metadata": {},
     "output_type": "execute_result"
    }
   ],
   "source": [
    "len(df[\"ratio\"].unique())"
   ]
  },
  {
   "cell_type": "code",
   "execution_count": 34,
   "metadata": {},
   "outputs": [
    {
     "data": {
      "text/plain": [
       "(225, 9)"
      ]
     },
     "execution_count": 34,
     "metadata": {},
     "output_type": "execute_result"
    }
   ],
   "source": [
    "# ratio_max=max(df[\"ratio\"])\n",
    "# df\n",
    "df.shape"
   ]
  },
  {
   "cell_type": "code",
   "execution_count": 35,
   "metadata": {},
   "outputs": [
    {
     "data": {
      "text/html": [
       "<div>\n",
       "<style scoped>\n",
       "    .dataframe tbody tr th:only-of-type {\n",
       "        vertical-align: middle;\n",
       "    }\n",
       "\n",
       "    .dataframe tbody tr th {\n",
       "        vertical-align: top;\n",
       "    }\n",
       "\n",
       "    .dataframe thead th {\n",
       "        text-align: right;\n",
       "    }\n",
       "</style>\n",
       "<table border=\"1\" class=\"dataframe\">\n",
       "  <thead>\n",
       "    <tr style=\"text-align: right;\">\n",
       "      <th></th>\n",
       "      <th>nleds</th>\n",
       "      <th>d</th>\n",
       "      <th>z</th>\n",
       "      <th>E_cent</th>\n",
       "      <th>E_99</th>\n",
       "      <th>x_99</th>\n",
       "      <th>E_half</th>\n",
       "      <th>x_half</th>\n",
       "      <th>ratio</th>\n",
       "    </tr>\n",
       "  </thead>\n",
       "  <tbody>\n",
       "    <tr>\n",
       "      <th>54</th>\n",
       "      <td>9</td>\n",
       "      <td>0.03375</td>\n",
       "      <td>0.05000</td>\n",
       "      <td>1593.139658</td>\n",
       "      <td>1577.208262</td>\n",
       "      <td>0.008</td>\n",
       "      <td>796.569829</td>\n",
       "      <td>0.057</td>\n",
       "      <td>0.140351</td>\n",
       "    </tr>\n",
       "    <tr>\n",
       "      <th>63</th>\n",
       "      <td>25</td>\n",
       "      <td>0.03375</td>\n",
       "      <td>0.05000</td>\n",
       "      <td>2165.919260</td>\n",
       "      <td>2144.260068</td>\n",
       "      <td>0.015</td>\n",
       "      <td>1082.959630</td>\n",
       "      <td>0.088</td>\n",
       "      <td>0.170455</td>\n",
       "    </tr>\n",
       "    <tr>\n",
       "      <th>163</th>\n",
       "      <td>49</td>\n",
       "      <td>0.08125</td>\n",
       "      <td>0.10625</td>\n",
       "      <td>430.123205</td>\n",
       "      <td>425.821973</td>\n",
       "      <td>0.068</td>\n",
       "      <td>215.061602</td>\n",
       "      <td>0.288</td>\n",
       "      <td>0.236111</td>\n",
       "    </tr>\n",
       "    <tr>\n",
       "      <th>81</th>\n",
       "      <td>81</td>\n",
       "      <td>0.03375</td>\n",
       "      <td>0.05000</td>\n",
       "      <td>2540.581920</td>\n",
       "      <td>2515.176100</td>\n",
       "      <td>0.041</td>\n",
       "      <td>1270.290960</td>\n",
       "      <td>0.154</td>\n",
       "      <td>0.266234</td>\n",
       "    </tr>\n",
       "    <tr>\n",
       "      <th>90</th>\n",
       "      <td>121</td>\n",
       "      <td>0.03375</td>\n",
       "      <td>0.05000</td>\n",
       "      <td>2609.092185</td>\n",
       "      <td>2583.001263</td>\n",
       "      <td>0.055</td>\n",
       "      <td>1304.546092</td>\n",
       "      <td>0.187</td>\n",
       "      <td>0.294118</td>\n",
       "    </tr>\n",
       "    <tr>\n",
       "      <th>99</th>\n",
       "      <td>169</td>\n",
       "      <td>0.03375</td>\n",
       "      <td>0.05000</td>\n",
       "      <td>2650.496398</td>\n",
       "      <td>2623.991434</td>\n",
       "      <td>0.076</td>\n",
       "      <td>1325.248199</td>\n",
       "      <td>0.220</td>\n",
       "      <td>0.345455</td>\n",
       "    </tr>\n",
       "  </tbody>\n",
       "</table>\n",
       "</div>"
      ],
      "text/plain": [
       "     nleds        d        z       E_cent         E_99   x_99       E_half  \\\n",
       "54       9  0.03375  0.05000  1593.139658  1577.208262  0.008   796.569829   \n",
       "63      25  0.03375  0.05000  2165.919260  2144.260068  0.015  1082.959630   \n",
       "163     49  0.08125  0.10625   430.123205   425.821973  0.068   215.061602   \n",
       "81      81  0.03375  0.05000  2540.581920  2515.176100  0.041  1270.290960   \n",
       "90     121  0.03375  0.05000  2609.092185  2583.001263  0.055  1304.546092   \n",
       "99     169  0.03375  0.05000  2650.496398  2623.991434  0.076  1325.248199   \n",
       "\n",
       "     x_half     ratio  \n",
       "54    0.057  0.140351  \n",
       "63    0.088  0.170455  \n",
       "163   0.288  0.236111  \n",
       "81    0.154  0.266234  \n",
       "90    0.187  0.294118  \n",
       "99    0.220  0.345455  "
      ]
     },
     "execution_count": 35,
     "metadata": {},
     "output_type": "execute_result"
    }
   ],
   "source": [
    "idx = df.groupby(['nleds'])['ratio'].transform(max) == df['ratio']\n",
    "df[idx][df[idx][\"nleds\"] != 1].sort_values(\"nleds\")\n",
    "# df[idx][df[idx][\"nleds\"] != 1].groupby(\"nleds\").mean()"
   ]
  },
  {
   "cell_type": "code",
   "execution_count": 36,
   "metadata": {},
   "outputs": [
    {
     "data": {
      "text/plain": [
       "2650.4963981978904"
      ]
     },
     "execution_count": 36,
     "metadata": {},
     "output_type": "execute_result"
    }
   ],
   "source": [
    "ef=df[df[\"ratio\"] == df[\"ratio\"].max()]\n",
    "max(ef[\"E_cent\"])"
   ]
  },
  {
   "cell_type": "code",
   "execution_count": 40,
   "metadata": {},
   "outputs": [
    {
     "data": {
      "text/plain": [
       "array([0.01, 0.02, 0.03, 0.04, 0.05, 0.06, 0.07, 0.08, 0.09, 0.1 , 0.11,\n",
       "       0.12, 0.13, 0.14, 0.15, 0.16, 0.17, 0.18, 0.19, 0.2 ])"
      ]
     },
     "execution_count": 40,
     "metadata": {},
     "output_type": "execute_result"
    }
   ],
   "source": [
    "np.linspace(0.01,0.2,20)"
   ]
  },
  {
   "cell_type": "code",
   "execution_count": null,
   "metadata": {},
   "outputs": [],
   "source": []
  }
 ],
 "metadata": {
  "kernelspec": {
   "display_name": "Python 3",
   "language": "python",
   "name": "python3"
  },
  "language_info": {
   "codemirror_mode": {
    "name": "ipython",
    "version": 3
   },
   "file_extension": ".py",
   "mimetype": "text/x-python",
   "name": "python",
   "nbconvert_exporter": "python",
   "pygments_lexer": "ipython3",
   "version": "3.8.5"
  }
 },
 "nbformat": 4,
 "nbformat_minor": 4
}
