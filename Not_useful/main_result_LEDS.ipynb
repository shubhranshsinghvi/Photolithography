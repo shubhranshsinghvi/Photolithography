{
 "cells": [
  {
   "cell_type": "code",
   "execution_count": 3,
   "metadata": {},
   "outputs": [],
   "source": [
    "#!pip3 install multiprocess\n",
    "from multiprocessing import Pool\n",
    "import math\n",
    "import numpy as np\n",
    "import pandas as pd\n",
    "# !pip3 install tqdm\n",
    "\n",
    "import matplotlib.pyplot as plt\n",
    "from tqdm import tqdm"
   ]
  },
  {
   "cell_type": "code",
   "execution_count": 2,
   "metadata": {},
   "outputs": [],
   "source": [
    "def arrangement_1(nleds,d):\n",
    "\n",
    "    l=math.sqrt(nleds);\n",
    "\n",
    "    ledcord=np.zeros((2,nleds));\n",
    "\n",
    "    temp=0;\n",
    "    for k in range(nleds):\n",
    "        ledcord[0,k]=-(l-1)*d/2 +((k)%l)*d;\n",
    "        if (k)%l ==0 and k != 0:\n",
    "            temp=temp+1;\n",
    "        ledcord[1,k]=-(l-1)*d/2 + temp*d;\n",
    "\n",
    "    return ledcord\n",
    "\n",
    "def E_xy_cent(ledcord,nleds,Ir_0,z,d):\n",
    "    \n",
    "    x=0;\n",
    "    y=0;\n",
    "    E=0;\n",
    "    for i in range(nleds):\n",
    "        den=np.square(np.square(x-ledcord[0,i]) +np.square(y-ledcord[1,i]) +z**2);\n",
    "        E= E + (z**2 * Ir_0)*(np.reciprocal(den));\n",
    "\n",
    "    return E;\n",
    "    \n",
    "def E_xy_end(ledcord,nleds,Ir_0,z,d,x_end):\n",
    "    \n",
    "    x=x_end;\n",
    "    y=0;\n",
    "    E=0;\n",
    "    for i in range(nleds):\n",
    "        den=np.square(np.square(x-ledcord[0,i]) +np.square(y-ledcord[1,i]) +z**2);\n",
    "        E= E + (z**2 * Ir_0)*(np.reciprocal(den));\n",
    "\n",
    "    return E;\n",
    "\n",
    "def plot_E_xy_full(ledcord,nleds,Ir_0,z,d):\n",
    "    l=math.sqrt(nleds)\n",
    "    x = np.arange(-10, 10, 0.01)\n",
    "    y = np.arange(-10, 10, 0.01)\n",
    "\n",
    "    x,y=np.meshgrid(x, y, sparse=False, indexing='ij')\n",
    "\n",
    "    E=np.zeros(np.size(x));\n",
    "\n",
    "    for i in range(nleds):\n",
    "        den=np.square(np.square(x-ledcord[0,i]) +np.square(y-ledcord[1,i]) +z**2);\n",
    "        E= E + (z**2 * Ir_0)*(np.reciprocal(den));\n",
    "        \n",
    "    return E;\n",
    "\n",
    "#     s=surface(x,y,E);\n",
    "#     xlabel('x-coordinate(m)');\n",
    "#     ylabel('y-coordinate(m)');\n",
    "#     zlabel('Irradinace(W/m^2)');\n",
    "#     s.EdgeColor = 'none';\n"
   ]
  },
  {
   "cell_type": "code",
   "execution_count": 3,
   "metadata": {},
   "outputs": [
    {
     "name": "stdout",
     "output_type": "stream",
     "text": [
      "450.9825479895467\n"
     ]
    }
   ],
   "source": [
    "nleds=49;\n",
    "Ir_0 = 1;\n",
    "d=0.122292;\n",
    "z=0.05;\n",
    "ledcord = arrangement_1(nleds,d);\n",
    "x_end=0.0;\n",
    "print(E_xy_end(ledcord,nleds,Ir_0,z,d,x_end))"
   ]
  },
  {
   "cell_type": "code",
   "execution_count": 4,
   "metadata": {},
   "outputs": [
    {
     "name": "stderr",
     "output_type": "stream",
     "text": [
      "100%|██████████| 38/38 [2:13:05<00:00, 210.14s/it]  \n"
     ]
    }
   ],
   "source": [
    "Ir_0 = 1;\n",
    "\n",
    "# print(plot_E_xy_full(ledcord,nleds,Ir_0,z,d))\n",
    "# E_cent=E_xy_cent(ledcord,nleds,Ir_0,z,d)\n",
    "# E_half = E_cent/2\n",
    "# E_99 = E_cent * 0.99\n",
    "# x_half = 0\n",
    "# x_99 = 0\n",
    "# x_half_flag = False\n",
    "# x_99_flag = False\n",
    "\n",
    "final_list = []\n",
    "\n",
    "\n",
    "def ratio(d):\n",
    "#     for d in np.linspace(0.01,0.2,38):\n",
    "    final_list = []\n",
    "    for nleds in [1,9,25,49,81,121,169]:\n",
    "        ledcord = arrangement_1(nleds,d)\n",
    "        for z in np.linspace(0.05,0.5,45):\n",
    "            E_cent = E_xy_cent(ledcord,nleds,Ir_0,z,d)\n",
    "            E_half = E_cent/2\n",
    "            E_99 = E_cent * 0.99\n",
    "            x_half = 0\n",
    "            x_99 = 0\n",
    "            x_half_flag = False\n",
    "            x_99_flag = False\n",
    "\n",
    "            for x_end in np.linspace(0,5,10000):\n",
    "\n",
    "\n",
    "\n",
    "                E_end=E_xy_end(ledcord,nleds,Ir_0,z,d,x_end)\n",
    "\n",
    "                if E_end < E_half and not x_half_flag:\n",
    "                    x_half = x_end\n",
    "                    x_half_flag = True\n",
    "\n",
    "                if E_end < E_99 and not x_99_flag:\n",
    "                    x_99 = x_end\n",
    "                    x_99_flag = True\n",
    "\n",
    "            final_list.append([nleds,d,z,E_cent,E_99, x_99,E_half,x_half])\n",
    "    return final_list\n",
    "\n",
    "with Pool(10) as p:\n",
    "      l = list(tqdm(p.imap(ratio,np.linspace(0.01,0.2,38)), total=38))\n",
    "# pool=Pool();\n",
    "# l=pool.map(ratio,np.linspace(0.01,0.2,10))\n",
    "# #     ratio(d)"
   ]
  },
  {
   "cell_type": "code",
   "execution_count": 2,
   "metadata": {},
   "outputs": [
    {
     "ename": "NameError",
     "evalue": "name 'l' is not defined",
     "output_type": "error",
     "traceback": [
      "\u001b[0;31m---------------------------------------------------------------------------\u001b[0m",
      "\u001b[0;31mNameError\u001b[0m                                 Traceback (most recent call last)",
      "\u001b[0;32m<ipython-input-2-74450d64cd54>\u001b[0m in \u001b[0;36m<module>\u001b[0;34m\u001b[0m\n\u001b[1;32m      1\u001b[0m \u001b[0mt\u001b[0m\u001b[0;34m=\u001b[0m\u001b[0;34m[\u001b[0m\u001b[0;34m]\u001b[0m\u001b[0;34m\u001b[0m\u001b[0;34m\u001b[0m\u001b[0m\n\u001b[0;32m----> 2\u001b[0;31m \u001b[0;32mfor\u001b[0m \u001b[0mi\u001b[0m \u001b[0;32min\u001b[0m \u001b[0ml\u001b[0m\u001b[0;34m:\u001b[0m\u001b[0;34m\u001b[0m\u001b[0;34m\u001b[0m\u001b[0m\n\u001b[0m\u001b[1;32m      3\u001b[0m     \u001b[0mt\u001b[0m\u001b[0;34m.\u001b[0m\u001b[0mextend\u001b[0m\u001b[0;34m(\u001b[0m\u001b[0mi\u001b[0m\u001b[0;34m)\u001b[0m\u001b[0;34m\u001b[0m\u001b[0;34m\u001b[0m\u001b[0m\n\u001b[1;32m      4\u001b[0m     \u001b[0mprint\u001b[0m\u001b[0;34m(\u001b[0m\u001b[0mlen\u001b[0m\u001b[0;34m(\u001b[0m\u001b[0mi\u001b[0m\u001b[0;34m)\u001b[0m\u001b[0;34m)\u001b[0m\u001b[0;34m\u001b[0m\u001b[0;34m\u001b[0m\u001b[0m\n\u001b[1;32m      5\u001b[0m \u001b[0mfinal_list\u001b[0m\u001b[0;34m=\u001b[0m\u001b[0mt\u001b[0m\u001b[0;34m\u001b[0m\u001b[0;34m\u001b[0m\u001b[0m\n",
      "\u001b[0;31mNameError\u001b[0m: name 'l' is not defined"
     ]
    }
   ],
   "source": [
    "t=[]\n",
    "for i in l:\n",
    "    t.extend(i)\n",
    "    print(len(i))\n",
    "final_list=t\n"
   ]
  },
  {
   "cell_type": "code",
   "execution_count": 41,
   "metadata": {},
   "outputs": [],
   "source": [
    "df = pd.DataFrame(final_list,columns=[\"nleds\",\"d\",\"z\",\"E_cent\",\"E_99\",\"x_99\",\"E_half\",\"x_half\"])\n",
    "df = df.drop_duplicates()"
   ]
  },
  {
   "cell_type": "code",
   "execution_count": 42,
   "metadata": {},
   "outputs": [],
   "source": [
    "df[\"ratio\"]=df[\"x_99\"]/df[\"x_half\"]"
   ]
  },
  {
   "cell_type": "code",
   "execution_count": 43,
   "metadata": {},
   "outputs": [
    {
     "data": {
      "text/plain": [
       "10305"
      ]
     },
     "execution_count": 43,
     "metadata": {},
     "output_type": "execute_result"
    }
   ],
   "source": [
    "len(df[\"E_half\"].unique())"
   ]
  },
  {
   "cell_type": "code",
   "execution_count": 44,
   "metadata": {},
   "outputs": [
    {
     "data": {
      "text/plain": [
       "762.6315789473684"
      ]
     },
     "execution_count": 44,
     "metadata": {},
     "output_type": "execute_result"
    }
   ],
   "source": [
    "\n",
    "df.shape\n",
    "28980/38"
   ]
  },
  {
   "cell_type": "code",
   "execution_count": 45,
   "metadata": {},
   "outputs": [
    {
     "data": {
      "text/plain": [
       "315.0"
      ]
     },
     "execution_count": 45,
     "metadata": {},
     "output_type": "execute_result"
    }
   ],
   "source": [
    "df.drop_duplicates().shape\n",
    "11970/38"
   ]
  },
  {
   "cell_type": "code",
   "execution_count": 47,
   "metadata": {},
   "outputs": [],
   "source": [
    "pd.set_option(\"display.max_rows\", None, \"display.max_columns\", None)\n",
    "# df"
   ]
  },
  {
   "cell_type": "code",
   "execution_count": 52,
   "metadata": {},
   "outputs": [
    {
     "data": {
      "text/plain": [
       "[<matplotlib.lines.Line2D at 0x7f6c5ec62be0>]"
      ]
     },
     "execution_count": 52,
     "metadata": {},
     "output_type": "execute_result"
    },
    {
     "data": {
      "image/png": "[encoded data removed]",
      "text/plain": [
       "<Figure size 432x288 with 1 Axes>"
      ]
     },
     "metadata": {
      "needs_background": "light"
     },
     "output_type": "display_data"
    }
   ],
   "source": [
    "plt.plot(df[\"ratio\"])"
   ]
  },
  {
   "cell_type": "code",
   "execution_count": 49,
   "metadata": {},
   "outputs": [
    {
     "data": {
      "text/plain": [
       "8230"
      ]
     },
     "execution_count": 49,
     "metadata": {},
     "output_type": "execute_result"
    }
   ],
   "source": [
    "len(df[\"ratio\"].unique())"
   ]
  },
  {
   "cell_type": "code",
   "execution_count": 50,
   "metadata": {},
   "outputs": [
    {
     "data": {
      "text/plain": [
       "(11970, 9)"
      ]
     },
     "execution_count": 50,
     "metadata": {},
     "output_type": "execute_result"
    }
   ],
   "source": [
    "# ratio_max=max(df[\"ratio\"])\n",
    "# df\n",
    "df.shape"
   ]
  },
  {
   "cell_type": "code",
   "execution_count": 57,
   "metadata": {},
   "outputs": [
    {
     "data": {
      "text/html": [
       "<div>\n",
       "<style scoped>\n",
       "    .dataframe tbody tr th:only-of-type {\n",
       "        vertical-align: middle;\n",
       "    }\n",
       "\n",
       "    .dataframe tbody tr th {\n",
       "        vertical-align: top;\n",
       "    }\n",
       "\n",
       "    .dataframe thead th {\n",
       "        text-align: right;\n",
       "    }\n",
       "</style>\n",
       "<table border=\"1\" class=\"dataframe\">\n",
       "  <thead>\n",
       "    <tr style=\"text-align: right;\">\n",
       "      <th></th>\n",
       "      <th>nleds</th>\n",
       "      <th>d</th>\n",
       "      <th>z</th>\n",
       "      <th>E_cent</th>\n",
       "      <th>E_99</th>\n",
       "      <th>x_99</th>\n",
       "      <th>E_half</th>\n",
       "      <th>x_half</th>\n",
       "      <th>ratio</th>\n",
       "    </tr>\n",
       "  </thead>\n",
       "  <tbody>\n",
       "    <tr>\n",
       "      <th>1620</th>\n",
       "      <td>9</td>\n",
       "      <td>0.035676</td>\n",
       "      <td>0.050000</td>\n",
       "      <td>1495.376406</td>\n",
       "      <td>1480.422642</td>\n",
       "      <td>0.008501</td>\n",
       "      <td>747.688203</td>\n",
       "      <td>0.059506</td>\n",
       "      <td>0.142857</td>\n",
       "    </tr>\n",
       "    <tr>\n",
       "      <th>2297</th>\n",
       "      <td>25</td>\n",
       "      <td>0.045946</td>\n",
       "      <td>0.070455</td>\n",
       "      <td>1150.356236</td>\n",
       "      <td>1138.852674</td>\n",
       "      <td>0.020502</td>\n",
       "      <td>575.178118</td>\n",
       "      <td>0.120012</td>\n",
       "      <td>0.170833</td>\n",
       "    </tr>\n",
       "    <tr>\n",
       "      <th>21256</th>\n",
       "      <td>49</td>\n",
       "      <td>0.169189</td>\n",
       "      <td>0.213636</td>\n",
       "      <td>100.014195</td>\n",
       "      <td>99.014054</td>\n",
       "      <td>0.144014</td>\n",
       "      <td>50.007098</td>\n",
       "      <td>0.597060</td>\n",
       "      <td>0.241206</td>\n",
       "    </tr>\n",
       "    <tr>\n",
       "      <th>5540</th>\n",
       "      <td>81</td>\n",
       "      <td>0.076757</td>\n",
       "      <td>0.101136</td>\n",
       "      <td>500.878094</td>\n",
       "      <td>495.869313</td>\n",
       "      <td>0.094509</td>\n",
       "      <td>250.439047</td>\n",
       "      <td>0.347035</td>\n",
       "      <td>0.272334</td>\n",
       "    </tr>\n",
       "    <tr>\n",
       "      <th>10316</th>\n",
       "      <td>121</td>\n",
       "      <td>0.112703</td>\n",
       "      <td>0.162500</td>\n",
       "      <td>234.758471</td>\n",
       "      <td>232.410886</td>\n",
       "      <td>0.184518</td>\n",
       "      <td>117.379236</td>\n",
       "      <td>0.622562</td>\n",
       "      <td>0.296386</td>\n",
       "    </tr>\n",
       "    <tr>\n",
       "      <th>8153</th>\n",
       "      <td>169</td>\n",
       "      <td>0.097297</td>\n",
       "      <td>0.131818</td>\n",
       "      <td>321.598035</td>\n",
       "      <td>318.382055</td>\n",
       "      <td>0.221022</td>\n",
       "      <td>160.799018</td>\n",
       "      <td>0.633563</td>\n",
       "      <td>0.348856</td>\n",
       "    </tr>\n",
       "  </tbody>\n",
       "</table>\n",
       "</div>"
      ],
      "text/plain": [
       "       nleds         d         z       E_cent         E_99      x_99  \\\n",
       "1620       9  0.035676  0.050000  1495.376406  1480.422642  0.008501   \n",
       "2297      25  0.045946  0.070455  1150.356236  1138.852674  0.020502   \n",
       "21256     49  0.169189  0.213636   100.014195    99.014054  0.144014   \n",
       "5540      81  0.076757  0.101136   500.878094   495.869313  0.094509   \n",
       "10316    121  0.112703  0.162500   234.758471   232.410886  0.184518   \n",
       "8153     169  0.097297  0.131818   321.598035   318.382055  0.221022   \n",
       "\n",
       "           E_half    x_half     ratio  \n",
       "1620   747.688203  0.059506  0.142857  \n",
       "2297   575.178118  0.120012  0.170833  \n",
       "21256   50.007098  0.597060  0.241206  \n",
       "5540   250.439047  0.347035  0.272334  \n",
       "10316  117.379236  0.622562  0.296386  \n",
       "8153   160.799018  0.633563  0.348856  "
      ]
     },
     "execution_count": 57,
     "metadata": {},
     "output_type": "execute_result"
    }
   ],
   "source": [
    "idx = df.groupby(['nleds'])['ratio'].transform(max) == df['ratio']\n",
    "df[idx][df[idx][\"nleds\"] != 1].sort_values(\"nleds\")\n",
    "# df[idx][df[idx][\"nleds\"] != 1].groupby(\"nleds\").mean()"
   ]
  },
  {
   "cell_type": "code",
   "execution_count": 1,
   "metadata": {},
   "outputs": [
    {
     "ename": "NameError",
     "evalue": "name 'df' is not defined",
     "output_type": "error",
     "traceback": [
      "\u001b[0;31m---------------------------------------------------------------------------\u001b[0m",
      "\u001b[0;31mNameError\u001b[0m                                 Traceback (most recent call last)",
      "\u001b[0;32m<ipython-input-1-1826cd8f0259>\u001b[0m in \u001b[0;36m<module>\u001b[0;34m\u001b[0m\n\u001b[0;32m----> 1\u001b[0;31m \u001b[0mef\u001b[0m\u001b[0;34m=\u001b[0m\u001b[0mdf\u001b[0m\u001b[0;34m[\u001b[0m\u001b[0mdf\u001b[0m\u001b[0;34m[\u001b[0m\u001b[0;34m\"ratio\"\u001b[0m\u001b[0;34m]\u001b[0m \u001b[0;34m==\u001b[0m \u001b[0mdf\u001b[0m\u001b[0;34m[\u001b[0m\u001b[0;34m\"ratio\"\u001b[0m\u001b[0;34m]\u001b[0m\u001b[0;34m.\u001b[0m\u001b[0mmax\u001b[0m\u001b[0;34m(\u001b[0m\u001b[0;34m)\u001b[0m\u001b[0;34m]\u001b[0m\u001b[0;34m\u001b[0m\u001b[0;34m\u001b[0m\u001b[0m\n\u001b[0m\u001b[1;32m      2\u001b[0m \u001b[0mmax\u001b[0m\u001b[0;34m(\u001b[0m\u001b[0mef\u001b[0m\u001b[0;34m[\u001b[0m\u001b[0;34m\"E_cent\"\u001b[0m\u001b[0;34m]\u001b[0m\u001b[0;34m)\u001b[0m\u001b[0;34m\u001b[0m\u001b[0;34m\u001b[0m\u001b[0m\n",
      "\u001b[0;31mNameError\u001b[0m: name 'df' is not defined"
     ]
    }
   ],
   "source": [
    "ef=df[df[\"ratio\"] == df[\"ratio\"].max()]\n",
    "max(ef[\"E_cent\"])"
   ]
  },
  {
   "cell_type": "code",
   "execution_count": null,
   "metadata": {},
   "outputs": [],
   "source": []
  },
  {
   "cell_type": "code",
   "execution_count": null,
   "metadata": {},
   "outputs": [],
   "source": []
  }
 ],
 "metadata": {
  "kernelspec": {
   "display_name": "Python 3",
   "language": "python",
   "name": "python3"
  },
  "language_info": {
   "codemirror_mode": {
    "name": "ipython",
    "version": 3
   },
   "file_extension": ".py",
   "mimetype": "text/x-python",
   "name": "python",
   "nbconvert_exporter": "python",
   "pygments_lexer": "ipython3",
   "version": "3.8.5"
  }
 },
 "nbformat": 4,
 "nbformat_minor": 4
}
